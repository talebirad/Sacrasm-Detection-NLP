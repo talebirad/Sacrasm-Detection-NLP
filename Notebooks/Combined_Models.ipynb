{
  "nbformat": 4,
  "nbformat_minor": 0,
  "metadata": {
    "kernelspec": {
      "name": "python3",
      "display_name": "Python 3",
      "language": "python"
    },
    "language_info": {
      "name": "python",
      "version": "3.7.6",
      "mimetype": "text/x-python",
      "codemirror_mode": {
        "name": "ipython",
        "version": 3
      },
      "pygments_lexer": "ipython3",
      "nbconvert_exporter": "python",
      "file_extension": ".py"
    },
    "colab": {
      "name": "keras+NB+LR+SVM+BERT+LIME.ipynb",
      "provenance": [],
      "collapsed_sections": []
    }
  },
  "cells": [
    {
      "cell_type": "code",
      "metadata": {
        "_uuid": "8f2839f25d086af736a60e9eeb907d3b93b6e0e5",
        "_cell_guid": "b1076dfc-b9ad-4769-8c92-a6c4dae69d19",
        "trusted": true,
        "id": "6CqHlatv-6C6",
        "colab": {
          "base_uri": "https://localhost:8080/"
        },
        "outputId": "3d352cc2-5869-443d-db0c-66b0c2504045"
      },
      "source": [
        "import numpy as np \n",
        "import pandas as pd \n",
        "import os\n",
        "import json\n",
        "from keras.preprocessing.text import Tokenizer\n",
        "from keras.preprocessing.sequence import pad_sequences\n",
        "from tensorflow.keras.callbacks import EarlyStopping\n",
        "from keras.layers import Dense, Embedding, Dropout, Flatten\n",
        "from keras.models import Model, Sequential\n",
        "from keras.utils import plot_model\n",
        "from sklearn.model_selection import train_test_split\n",
        "import matplotlib.pyplot as plt\n",
        "from sklearn.metrics import f1_score, precision_score, recall_score, confusion_matrix,accuracy_score\n",
        "from sklearn.linear_model import LogisticRegression \n",
        "from sklearn.naive_bayes import MultinomialNB\n",
        "from sklearn.model_selection import cross_val_score\n",
        "from nltk.corpus import stopwords\n",
        "from sklearn.feature_extraction.text import TfidfVectorizer\n",
        "import re\n",
        "import string\n",
        "from sklearn.svm import SVC\n",
        "!pip install transformers\n",
        "from transformers import TFBertModel, BertTokenizer\n",
        "import tensorflow as tf\n",
        "!pip install lime\n",
        "import lime\n",
        "import lime.lime_tabular\n",
        "from lime.lime_text import LimeTextExplainer\n",
        "from sklearn.pipeline import make_pipeline\n",
        "import nltk \n",
        "nltk.download('stopwords')\n",
        "nltk.download('punkt')"
      ],
      "execution_count": null,
      "outputs": [
        {
          "output_type": "stream",
          "text": [
            "Requirement already satisfied: transformers in /usr/local/lib/python3.7/dist-packages (4.5.1)\n",
            "Requirement already satisfied: filelock in /usr/local/lib/python3.7/dist-packages (from transformers) (3.0.12)\n",
            "Requirement already satisfied: regex!=2019.12.17 in /usr/local/lib/python3.7/dist-packages (from transformers) (2019.12.20)\n",
            "Requirement already satisfied: importlib-metadata; python_version < \"3.8\" in /usr/local/lib/python3.7/dist-packages (from transformers) (3.10.1)\n",
            "Requirement already satisfied: tokenizers<0.11,>=0.10.1 in /usr/local/lib/python3.7/dist-packages (from transformers) (0.10.2)\n",
            "Requirement already satisfied: packaging in /usr/local/lib/python3.7/dist-packages (from transformers) (20.9)\n",
            "Requirement already satisfied: numpy>=1.17 in /usr/local/lib/python3.7/dist-packages (from transformers) (1.19.5)\n",
            "Requirement already satisfied: sacremoses in /usr/local/lib/python3.7/dist-packages (from transformers) (0.0.45)\n",
            "Requirement already satisfied: requests in /usr/local/lib/python3.7/dist-packages (from transformers) (2.23.0)\n",
            "Requirement already satisfied: tqdm>=4.27 in /usr/local/lib/python3.7/dist-packages (from transformers) (4.41.1)\n",
            "Requirement already satisfied: zipp>=0.5 in /usr/local/lib/python3.7/dist-packages (from importlib-metadata; python_version < \"3.8\"->transformers) (3.4.1)\n",
            "Requirement already satisfied: typing-extensions>=3.6.4; python_version < \"3.8\" in /usr/local/lib/python3.7/dist-packages (from importlib-metadata; python_version < \"3.8\"->transformers) (3.7.4.3)\n",
            "Requirement already satisfied: pyparsing>=2.0.2 in /usr/local/lib/python3.7/dist-packages (from packaging->transformers) (2.4.7)\n",
            "Requirement already satisfied: joblib in /usr/local/lib/python3.7/dist-packages (from sacremoses->transformers) (1.0.1)\n",
            "Requirement already satisfied: click in /usr/local/lib/python3.7/dist-packages (from sacremoses->transformers) (7.1.2)\n",
            "Requirement already satisfied: six in /usr/local/lib/python3.7/dist-packages (from sacremoses->transformers) (1.15.0)\n",
            "Requirement already satisfied: urllib3!=1.25.0,!=1.25.1,<1.26,>=1.21.1 in /usr/local/lib/python3.7/dist-packages (from requests->transformers) (1.24.3)\n",
            "Requirement already satisfied: certifi>=2017.4.17 in /usr/local/lib/python3.7/dist-packages (from requests->transformers) (2020.12.5)\n",
            "Requirement already satisfied: idna<3,>=2.5 in /usr/local/lib/python3.7/dist-packages (from requests->transformers) (2.10)\n",
            "Requirement already satisfied: chardet<4,>=3.0.2 in /usr/local/lib/python3.7/dist-packages (from requests->transformers) (3.0.4)\n",
            "Requirement already satisfied: lime in /usr/local/lib/python3.7/dist-packages (0.2.0.1)\n",
            "Requirement already satisfied: scipy in /usr/local/lib/python3.7/dist-packages (from lime) (1.4.1)\n",
            "Requirement already satisfied: numpy in /usr/local/lib/python3.7/dist-packages (from lime) (1.19.5)\n",
            "Requirement already satisfied: tqdm in /usr/local/lib/python3.7/dist-packages (from lime) (4.41.1)\n",
            "Requirement already satisfied: matplotlib in /usr/local/lib/python3.7/dist-packages (from lime) (3.2.2)\n",
            "Requirement already satisfied: scikit-learn>=0.18 in /usr/local/lib/python3.7/dist-packages (from lime) (0.22.2.post1)\n",
            "Requirement already satisfied: scikit-image>=0.12 in /usr/local/lib/python3.7/dist-packages (from lime) (0.16.2)\n",
            "Requirement already satisfied: python-dateutil>=2.1 in /usr/local/lib/python3.7/dist-packages (from matplotlib->lime) (2.8.1)\n",
            "Requirement already satisfied: kiwisolver>=1.0.1 in /usr/local/lib/python3.7/dist-packages (from matplotlib->lime) (1.3.1)\n",
            "Requirement already satisfied: cycler>=0.10 in /usr/local/lib/python3.7/dist-packages (from matplotlib->lime) (0.10.0)\n",
            "Requirement already satisfied: pyparsing!=2.0.4,!=2.1.2,!=2.1.6,>=2.0.1 in /usr/local/lib/python3.7/dist-packages (from matplotlib->lime) (2.4.7)\n",
            "Requirement already satisfied: joblib>=0.11 in /usr/local/lib/python3.7/dist-packages (from scikit-learn>=0.18->lime) (1.0.1)\n",
            "Requirement already satisfied: pillow>=4.3.0 in /usr/local/lib/python3.7/dist-packages (from scikit-image>=0.12->lime) (7.1.2)\n",
            "Requirement already satisfied: imageio>=2.3.0 in /usr/local/lib/python3.7/dist-packages (from scikit-image>=0.12->lime) (2.4.1)\n",
            "Requirement already satisfied: PyWavelets>=0.4.0 in /usr/local/lib/python3.7/dist-packages (from scikit-image>=0.12->lime) (1.1.1)\n",
            "Requirement already satisfied: networkx>=2.0 in /usr/local/lib/python3.7/dist-packages (from scikit-image>=0.12->lime) (2.5.1)\n",
            "Requirement already satisfied: six>=1.5 in /usr/local/lib/python3.7/dist-packages (from python-dateutil>=2.1->matplotlib->lime) (1.15.0)\n",
            "Requirement already satisfied: decorator<5,>=4.3 in /usr/local/lib/python3.7/dist-packages (from networkx>=2.0->scikit-image>=0.12->lime) (4.4.2)\n",
            "[nltk_data] Downloading package stopwords to /root/nltk_data...\n",
            "[nltk_data]   Package stopwords is already up-to-date!\n",
            "[nltk_data] Downloading package punkt to /root/nltk_data...\n",
            "[nltk_data]   Package punkt is already up-to-date!\n"
          ],
          "name": "stdout"
        },
        {
          "output_type": "execute_result",
          "data": {
            "text/plain": [
              "True"
            ]
          },
          "metadata": {
            "tags": []
          },
          "execution_count": 8
        }
      ]
    },
    {
      "cell_type": "code",
      "metadata": {
        "colab": {
          "base_uri": "https://localhost:8080/"
        },
        "id": "8Ds1z_5JfWpP",
        "outputId": "896b6476-e404-483b-fb96-a217b83fefbe"
      },
      "source": [
        "from google.colab import drive\n",
        "drive.mount('/content/drive')"
      ],
      "execution_count": null,
      "outputs": [
        {
          "output_type": "stream",
          "text": [
            "Mounted at /content/drive\n"
          ],
          "name": "stdout"
        }
      ]
    },
    {
      "cell_type": "code",
      "metadata": {
        "_uuid": "d629ff2d2480ee46fbb7e2d37f6b5fab8052498a",
        "_cell_guid": "79c7e3d0-c299-4dcb-8224-4455121ee9b0",
        "trusted": true,
        "id": "ctuGzjsu-6C9"
      },
      "source": [
        "path1 = '/content/drive/MyDrive/data/Sarcasm_Headlines_Dataset.json'\n",
        "path2 = '/content/drive/MyDrive/data/Sarcasm_Headlines_Dataset_v2.json'\n",
        "def read_json_file(filepath):\n",
        "    return pd.DataFrame.from_dict([json.loads(line) for line in open(filepath, 'r')])\n",
        "\n",
        "df = pd.concat([read_json_file(path1), read_json_file(path2)])\n"
      ],
      "execution_count": null,
      "outputs": []
    },
    {
      "cell_type": "code",
      "metadata": {
        "colab": {
          "base_uri": "https://localhost:8080/",
          "height": 204
        },
        "id": "7POfaqddi8i0",
        "outputId": "2a390730-9725-4bb2-a453-f72f5dc8c9be"
      },
      "source": [
        "df.head()"
      ],
      "execution_count": null,
      "outputs": [
        {
          "output_type": "execute_result",
          "data": {
            "text/html": [
              "<div>\n",
              "<style scoped>\n",
              "    .dataframe tbody tr th:only-of-type {\n",
              "        vertical-align: middle;\n",
              "    }\n",
              "\n",
              "    .dataframe tbody tr th {\n",
              "        vertical-align: top;\n",
              "    }\n",
              "\n",
              "    .dataframe thead th {\n",
              "        text-align: right;\n",
              "    }\n",
              "</style>\n",
              "<table border=\"1\" class=\"dataframe\">\n",
              "  <thead>\n",
              "    <tr style=\"text-align: right;\">\n",
              "      <th></th>\n",
              "      <th>article_link</th>\n",
              "      <th>headline</th>\n",
              "      <th>is_sarcastic</th>\n",
              "    </tr>\n",
              "  </thead>\n",
              "  <tbody>\n",
              "    <tr>\n",
              "      <th>0</th>\n",
              "      <td>https://www.huffingtonpost.com/entry/versace-b...</td>\n",
              "      <td>former versace store clerk sues over secret 'b...</td>\n",
              "      <td>0</td>\n",
              "    </tr>\n",
              "    <tr>\n",
              "      <th>1</th>\n",
              "      <td>https://www.huffingtonpost.com/entry/roseanne-...</td>\n",
              "      <td>the 'roseanne' revival catches up to our thorn...</td>\n",
              "      <td>0</td>\n",
              "    </tr>\n",
              "    <tr>\n",
              "      <th>2</th>\n",
              "      <td>https://local.theonion.com/mom-starting-to-fea...</td>\n",
              "      <td>mom starting to fear son's web series closest ...</td>\n",
              "      <td>1</td>\n",
              "    </tr>\n",
              "    <tr>\n",
              "      <th>3</th>\n",
              "      <td>https://politics.theonion.com/boehner-just-wan...</td>\n",
              "      <td>boehner just wants wife to listen, not come up...</td>\n",
              "      <td>1</td>\n",
              "    </tr>\n",
              "    <tr>\n",
              "      <th>4</th>\n",
              "      <td>https://www.huffingtonpost.com/entry/jk-rowlin...</td>\n",
              "      <td>j.k. rowling wishes snape happy birthday in th...</td>\n",
              "      <td>0</td>\n",
              "    </tr>\n",
              "  </tbody>\n",
              "</table>\n",
              "</div>"
            ],
            "text/plain": [
              "                                        article_link  ... is_sarcastic\n",
              "0  https://www.huffingtonpost.com/entry/versace-b...  ...            0\n",
              "1  https://www.huffingtonpost.com/entry/roseanne-...  ...            0\n",
              "2  https://local.theonion.com/mom-starting-to-fea...  ...            1\n",
              "3  https://politics.theonion.com/boehner-just-wan...  ...            1\n",
              "4  https://www.huffingtonpost.com/entry/jk-rowlin...  ...            0\n",
              "\n",
              "[5 rows x 3 columns]"
            ]
          },
          "metadata": {
            "tags": []
          },
          "execution_count": 3
        }
      ]
    },
    {
      "cell_type": "code",
      "metadata": {
        "id": "gPgk5CDELN1S"
      },
      "source": [
        "df2= pd.read_csv('/content/drive/MyDrive/data/train-balanced-sarcasm.csv')\n",
        "df2.drop(['author', 'subreddit', 'score', 'ups', 'downs', 'date', 'created_utc', 'parent_comment'], axis=1, inplace=True)\n",
        "df2.dropna(inplace=True)"
      ],
      "execution_count": null,
      "outputs": []
    },
    {
      "cell_type": "code",
      "metadata": {
        "colab": {
          "base_uri": "https://localhost:8080/",
          "height": 204
        },
        "id": "8thA4DxMLaOw",
        "outputId": "2f6e1468-834a-4cca-f60c-9721ee579b6c"
      },
      "source": [
        "df2.head()"
      ],
      "execution_count": null,
      "outputs": [
        {
          "output_type": "execute_result",
          "data": {
            "text/html": [
              "<div>\n",
              "<style scoped>\n",
              "    .dataframe tbody tr th:only-of-type {\n",
              "        vertical-align: middle;\n",
              "    }\n",
              "\n",
              "    .dataframe tbody tr th {\n",
              "        vertical-align: top;\n",
              "    }\n",
              "\n",
              "    .dataframe thead th {\n",
              "        text-align: right;\n",
              "    }\n",
              "</style>\n",
              "<table border=\"1\" class=\"dataframe\">\n",
              "  <thead>\n",
              "    <tr style=\"text-align: right;\">\n",
              "      <th></th>\n",
              "      <th>label</th>\n",
              "      <th>comment</th>\n",
              "    </tr>\n",
              "  </thead>\n",
              "  <tbody>\n",
              "    <tr>\n",
              "      <th>0</th>\n",
              "      <td>0</td>\n",
              "      <td>NC and NH.</td>\n",
              "    </tr>\n",
              "    <tr>\n",
              "      <th>1</th>\n",
              "      <td>0</td>\n",
              "      <td>You do know west teams play against west teams...</td>\n",
              "    </tr>\n",
              "    <tr>\n",
              "      <th>2</th>\n",
              "      <td>0</td>\n",
              "      <td>They were underdogs earlier today, but since G...</td>\n",
              "    </tr>\n",
              "    <tr>\n",
              "      <th>3</th>\n",
              "      <td>0</td>\n",
              "      <td>This meme isn't funny none of the \"new york ni...</td>\n",
              "    </tr>\n",
              "    <tr>\n",
              "      <th>4</th>\n",
              "      <td>0</td>\n",
              "      <td>I could use one of those tools.</td>\n",
              "    </tr>\n",
              "  </tbody>\n",
              "</table>\n",
              "</div>"
            ],
            "text/plain": [
              "   label                                            comment\n",
              "0      0                                         NC and NH.\n",
              "1      0  You do know west teams play against west teams...\n",
              "2      0  They were underdogs earlier today, but since G...\n",
              "3      0  This meme isn't funny none of the \"new york ni...\n",
              "4      0                    I could use one of those tools."
            ]
          },
          "metadata": {
            "tags": []
          },
          "execution_count": 6
        }
      ]
    },
    {
      "cell_type": "markdown",
      "metadata": {
        "id": "R9o3VsNgYxv6"
      },
      "source": [
        "Data Processor of Deep Learning models for News Headline Dataset"
      ]
    },
    {
      "cell_type": "code",
      "metadata": {
        "id": "yzpL47IJjstB"
      },
      "source": [
        "class DataProcessor:\n",
        "    def __init__(self,data,max_len,max_words,test_split):\n",
        "        '''\n",
        "        This class is responsible for storing and processing the data.\n",
        "        test_split: Fraction of the data to be used as test data\n",
        "        Other parameters are explained in the comments of NeuralNet class.\n",
        "        '''\n",
        "        X=data['headline']\n",
        "        y=data['is_sarcastic']\n",
        "        cachedStopWords = stopwords.words(\"english\")\n",
        "        #the text cleaning is removed due to it resulting in less accuracy\n",
        "\n",
        "        # def clean_text(text):\n",
        "        #     text = re.sub('\\[[^]]*\\]', ' ', text)\n",
        "        #     text = re.sub(r'http\\S+', ' ', text)\n",
        "        #     text=text.translate(str.maketrans('', '', string.punctuation))\n",
        "        #     text=\" \".join([x for x in text.split() if x not in cachedStopWords])\n",
        "        #     return text\n",
        "        # X=X.apply(clean_text)\n",
        "        self.max_len=max_len\n",
        "        self.max_words=max_words\n",
        "        tokenizer = Tokenizer(num_words = self.max_words)\n",
        "        tokenizer.fit_on_texts(list(X))\n",
        "        self.tokenizer=tokenizer\n",
        "        X=self.texts_to_vecs(X)\n",
        "        self.X_train, self.X_test, self.y_train, self.y_test = train_test_split(X,y,test_size=test_split,random_state=101)\n",
        "    def texts_to_vecs(self,X):\n",
        "        #The processing consists of tokenizing and then padding the headlines.\n",
        "        return pad_sequences(self.tokenizer.texts_to_sequences(X), maxlen = self.max_len)      "
      ],
      "execution_count": null,
      "outputs": []
    },
    {
      "cell_type": "markdown",
      "metadata": {
        "id": "sHXbXcPVY795"
      },
      "source": [
        "Data Processor of ML Models for News Headline Dataset"
      ]
    },
    {
      "cell_type": "code",
      "metadata": {
        "id": "Yo5xH8Eobgp4"
      },
      "source": [
        "class DataProcessor_2:\n",
        "    def __init__(self,data,test_split):\n",
        "        '''\n",
        "        This class is responsible for storing and processing the data.\n",
        "        test_split: Fraction of the data to be used as test data\n",
        "        Other parameters are explained in the comments of NeuralNet class.\n",
        "        '''\n",
        "        X=data['headline']\n",
        "        y=data['is_sarcastic']\n",
        "        cachedStopWords = stopwords.words(\"english\")\n",
        "        def clean_text(text):\n",
        "            text = re.sub('\\[[^]]*\\]', ' ', text)\n",
        "            text = re.sub(r'http\\S+', ' ', text)\n",
        "            text=text.translate(str.maketrans('', '', string.punctuation))\n",
        "            text=\" \".join([x for x in text.split() if x not in cachedStopWords])\n",
        "            return text\n",
        "        X=X.apply(clean_text)\n",
        "        vectorizer = TfidfVectorizer(\"english\")\n",
        "        self.vectorizer=vectorizer\n",
        "        X = vectorizer.fit_transform(X)\n",
        "        self.X_train, self.X_test, self.y_train, self.y_test = train_test_split(X,y,test_size=test_split,random_state=101)\n",
        "    def texts_to_vecs(self,X):\n",
        "        #The processing consists of tokenizing and then padding the headlines.\n",
        "        return pad_sequences(self.tokenizer.texts_to_sequences(X), maxlen = self.max_len)\n"
      ],
      "execution_count": null,
      "outputs": []
    },
    {
      "cell_type": "markdown",
      "metadata": {
        "id": "vU4gNWowZhel"
      },
      "source": [
        "Data Processor of Reddit Dataset"
      ]
    },
    {
      "cell_type": "code",
      "metadata": {
        "id": "XiZ2ehlZT17t"
      },
      "source": [
        "class DataProcessor_3:\n",
        "    def __init__(self,data,max_len,max_words,test_split):\n",
        "        '''\n",
        "        This class is responsible for storing and processing the data.\n",
        "        test_split: Fraction of the data to be used as test data\n",
        "        Other parameters are explained in the comments of NeuralNet class.\n",
        "        '''\n",
        "        contraction_dict = {\"ain't\": \"is not\", \"cannot\": \"can not\", \"aren't\": \"are not\", \"can't\": \"can not\", \"'cause\": \"because\", \"could've\": \"could have\", \"couldn't\": \"could not\", \"didn't\": \"did not\",\n",
        "                \"doesn't\": \"does not\",\n",
        "                \"don't\": \"do not\", \"hadn't\": \"had not\", \"hasn't\": \"has not\", \"haven't\": \"have not\", \"he'd\": \"he would\", \"he'll\": \"he will\", \"he's\": \"he is\", \"how'd\": \"how did\",\n",
        "                \"how'd'y\": \"how do you\", \"how'll\": \"how will\", \"how's\": \"how is\", \"I'd\": \"I would\", \"I'd've\": \"I would have\", \"I'll\": \"I will\", \"I'll've\": \"I will have\", \"I'm\": \"I am\",\n",
        "                \"I've\": \"I have\", \"i'd\": \"i would\", \"i'd've\": \"i would have\", \"i'll\": \"i will\", \"i'll've\": \"i will have\", \"i'm\": \"i am\", \"i've\": \"i have\", \"isn't\": \"is not\", \"it'd\": \"it would\",\n",
        "                \"it'd've\": \"it would have\", \"it'll\": \"it will\", \"it'll've\": \"it will have\", \"it's\": \"it is\", \"let's\": \"let us\", \"ma'am\": \"madam\", \"mayn't\": \"may not\", \"might've\": \"might have\",\n",
        "                \"mightn't\": \"might not\", \"mightn't've\": \"might not have\", \"must've\": \"must have\", \"mustn't\": \"must not\", \"mustn't've\": \"must not have\", \"needn't\": \"need not\",\n",
        "                \"needn't've\": \"need not have\", \"o'clock\": \"of the clock\", \"oughtn't\": \"ought not\", \"oughtn't've\": \"ought not have\", \"shan't\": \"shall not\", \"sha'n't\": \"shall not\",\n",
        "                \"shan't've\": \"shall not have\", \"she'd\": \"she would\", \"she'd've\": \"she would have\", \"she'll\": \"she will\", \"she'll've\": \"she will have\", \"she's\": \"she is\",\n",
        "                \"should've\": \"should have\", \"shouldn't\": \"should not\", \"shouldn't've\": \"should not have\", \"so've\": \"so have\", \"so's\": \"so as\", \"this's\": \"this is\", \"that'd\": \"that would\",\n",
        "                \"that'd've\": \"that would have\", \"that's\": \"that is\", \"there'd\": \"there would\", \"there'd've\": \"there would have\", \"there's\": \"there is\", \"here's\": \"here is\", \"they'd\": \"they would\",\n",
        "                \"they'd've\": \"they would have\", \"they'll\": \"they will\", \"they'll've\": \"they will have\", \"they're\": \"they are\", \"they've\": \"they have\", \"to've\": \"to have\", \"wasn't\": \"was not\",\n",
        "                \"we'd\": \"we would\", \"we'd've\": \"we would have\", \"we'll\": \"we will\", \"we'll've\": \"we will have\", \"we're\": \"we are\", \"we've\": \"we have\", \"weren't\": \"were not\",\n",
        "                \"what'll\": \"what will\", \"what'll've\": \"what will have\", \"what're\": \"what are\", \"what's\": \"what is\", \"what've\": \"what have\", \"when's\": \"when is\", \"when've\": \"when have\",\n",
        "                \"where'd\": \"where did\", \"where's\": \"where is\", \"where've\": \"where have\", \"who'll\": \"who will\", \"who'll've\": \"who will have\", \"who's\": \"who is\", \"who've\": \"who have\",\n",
        "                \"why's\": \"why is\", \"why've\": \"why have\", \"will've\": \"will have\", \"won't\": \"will not\", \"wont\": \"will not\", \"won't've\": \"will not have\", \"would've\": \"would have\",\n",
        "                \"wouldn't\": \"would not\",\n",
        "                \"wouldn't've\": \"would not have\", \"y'all\": \"you all\", \"y'all'd\": \"you all would\", \"y'all'd've\": \"you all would have\", \"y'all're\": \"you all are\", \"y'all've\": \"you all have\",\n",
        "                \"you'd\": \"you would\", \"you'd've\": \"you would have\", \"you'll\": \"you will\", \"you'll've\": \"you will have\", \"you're\": \"you are\", \"you've\": \"you have\", 'colour': 'color',\n",
        "                'centre': 'center', 'favourite': 'favorite', 'travelling': 'traveling', 'counselling': 'counseling', 'theatre': 'theater', 'cancelled': 'canceled', 'labour': 'labor',\n",
        "                'organisation': 'organization', 'wwii': 'world war 2', 'citicise': 'criticize', 'youtu ': 'youtube ', 'Qoura': 'Quora', 'sallary': 'salary', 'Whta': 'What',\n",
        "                'narcisist': 'narcissist', 'howdo': 'how do', 'whatare': 'what are', 'howcan': 'how can', 'howmuch': 'how much', 'howmany': 'how many', 'whydo': 'why do', 'doI': 'do I',\n",
        "                'theBest': 'the best', 'howdoes': 'how does', 'Etherium': 'Ethereum',\n",
        "                'narcissit': 'narcissist', 'bigdata': 'big data', '2k17': '2017', '2k18': '2018', 'qouta': 'quota', 'exboyfriend': 'ex boyfriend', 'airhostess': 'air hostess', \"whst\": 'what',\n",
        "                'watsapp': 'whatsapp', 'demonitisation': 'demonetization', 'demonitization': 'demonetization', 'demonetisation': 'demonetization'}\n",
        "\n",
        "        contraction_dict = {k.lower(): v.lower() for k, v in contraction_dict.items()}\n",
        "        X=data['comment']\n",
        "        y=data['label']\n",
        "        cachedStopWords = stopwords.words(\"english\")\n",
        "        def clean_text(text):\n",
        "            text = str(text).lower().strip()\n",
        "            text = \" \".join([contraction_dict[word] if word in contraction_dict.keys() else word for word in text.split()])\n",
        "            text = re.sub('\\n', '', text)\n",
        "            text = re.sub('\\[[^]]*\\]', ' ', text)\n",
        "            text = re.sub(r'http\\S+', ' ', text)\n",
        "            text=text.translate(str.maketrans('', '', string.punctuation))\n",
        "            text=\" \".join([x for x in text.split() if x not in cachedStopWords])\n",
        "            return text\n",
        "        X=X.apply(clean_text)\n",
        "        self.max_len=max_len\n",
        "        self.max_words=max_words\n",
        "        tokenizer = Tokenizer(num_words = self.max_words)\n",
        "        tokenizer.fit_on_texts(list(X))\n",
        "        self.tokenizer=tokenizer\n",
        "        X=self.texts_to_vecs(X)\n",
        "        self.X_train, self.X_test, self.y_train, self.y_test = train_test_split(X,y,test_size=test_split,random_state=101)\n",
        "    def texts_to_vecs(self,X):\n",
        "        #The processing consists of tokenizing and then padding the headlines.\n",
        "        return pad_sequences(self.tokenizer.texts_to_sequences(X), maxlen = self.max_len)\n",
        "\n"
      ],
      "execution_count": null,
      "outputs": []
    },
    {
      "cell_type": "markdown",
      "metadata": {
        "id": "ObYZKpGgZHU5"
      },
      "source": [
        "ML Models"
      ]
    },
    {
      "cell_type": "code",
      "metadata": {
        "id": "agNTO0dUYarM"
      },
      "source": [
        "class LogisticReg:\n",
        "    def __init__(self):\n",
        "        self.model=LogisticRegression(solver='liblinear', penalty='l1')\n",
        "        # self.model=SVC()\n",
        "\n",
        "    def train(self,X,y,validation_split):\n",
        "        self.model.fit(X, y)\n",
        "        self.cross=cross_val_score(self.model, X, y, cv=5).mean()\n",
        "    def evaluate(self,X,y):\n",
        "        '''\n",
        "        This function evaluates the model on the test test, given the batch size and data, and returns a dictionary containing the accuracy, F1 score, precision, recall, and confusion matrix\n",
        "        '''\n",
        "        y_pred = self.model.predict(X)\n",
        "        results={}\n",
        "        results['precision']=precision_score(y, y_pred , average=\"macro\")\n",
        "        results['recall']=recall_score(y, y_pred , average=\"macro\")\n",
        "        results['f1']=f1_score(y, y_pred , average=\"macro\")\n",
        "        results['conf_matrix']=confusion_matrix(y, y_pred)\n",
        "        results['accuracy']=accuracy_score(y, y_pred)\n",
        "        self.misclass_indices = [i for i, x in enumerate(y_pred-y) if x !=0]\n",
        "        return results\n",
        "class SVM:\n",
        "    def __init__(self):\n",
        "        self.model=SVC()\n",
        "    def train(self,X,y,validation_split):\n",
        "        self.model.fit(X, y)\n",
        "        self.cross=cross_val_score(self.model, X, y, cv=5).mean()\n",
        "    def evaluate(self,X,y):\n",
        "        '''\n",
        "        This function evaluates the model on the test test, given the batch size and data, and returns a dictionary containing the accuracy, F1 score, precision, recall, and confusion matrix\n",
        "        '''\n",
        "        y_pred = self.model.predict(X)\n",
        "        results={}\n",
        "        results['precision']=precision_score(y, y_pred , average=\"macro\")\n",
        "        results['recall']=recall_score(y, y_pred , average=\"macro\")\n",
        "        results['f1']=f1_score(y, y_pred , average=\"macro\")\n",
        "        results['conf_matrix']=confusion_matrix(y, y_pred)\n",
        "        results['accuracy']=accuracy_score(y, y_pred)\n",
        "        self.misclass_indices = [i for i, x in enumerate(y_pred-y) if x !=0]\n",
        "        return results\n",
        "class NaiveBayes:\n",
        "    def __init__(self,alpha):\n",
        "        self.model=MultinomialNB(alpha=alpha)\n",
        "    def train(self,X,y,validation_split):\n",
        "        self.model.fit(X, y)\n",
        "        self.cross=cross_val_score(self.model, X, y, cv=5).mean()\n",
        "    def evaluate(self,X,y):\n",
        "        '''\n",
        "        This function evaluates the model on the test test, given the batch size and data, and returns a dictionary containing the accuracy, F1 score, precision, recall, and confusion matrix\n",
        "        '''\n",
        "        y_pred = self.model.predict(X)\n",
        "        results={}\n",
        "        results['precision']=precision_score(y, y_pred , average=\"macro\")\n",
        "        results['recall']=recall_score(y, y_pred , average=\"macro\")\n",
        "        results['f1']=f1_score(y, y_pred , average=\"macro\")\n",
        "        results['conf_matrix']=confusion_matrix(y, y_pred)\n",
        "        results['accuracy']=accuracy_score(y, y_pred)\n",
        "        self.misclass_indices = [i for i, x in enumerate(y_pred-y) if x !=0]\n",
        "        return results"
      ],
      "execution_count": null,
      "outputs": []
    },
    {
      "cell_type": "markdown",
      "metadata": {
        "id": "BN41_eEiZKUa"
      },
      "source": [
        "Keras/Neural net Model"
      ]
    },
    {
      "cell_type": "code",
      "metadata": {
        "id": "HXQ07LE0YftW"
      },
      "source": [
        "class NeuralNet:\n",
        "    def __init__(self,max_len,max_words,embedding_dim):\n",
        "        \"\"\"\n",
        "        This class creates a network, and is responsible for training, predicting, plotting, and visualizing\n",
        "        Initializing the class will build a sequential model as specified\n",
        "        max_len: Maximum length of all sequences which is used in padding, and as length of input sequences to the network\n",
        "        max_words: Size of the vocabulary, which is the input dimension of the embedding layer\n",
        "        embedding_dim: Dimension of the dense embedding, which is also the output dimension of that layer\n",
        "        \"\"\"\n",
        "        model = Sequential()\n",
        "        model.add(Embedding(max_words, embedding_dim, input_length = max_len))\n",
        "        model.add(Flatten())\n",
        "        model.add(Dense(100, activation=\"relu\"))\n",
        "        model.add(Dropout(0.2))\n",
        "        model.add(Dense(1, activation=\"sigmoid\"))\n",
        "        model.compile(loss='binary_crossentropy', optimizer='adam', metrics=['accuracy'])\n",
        "        self.model=model\n",
        "    def train(self,X,y,batch_size,\n",
        "    epochs,\n",
        "    validation_split):\n",
        "        '''\n",
        "        This function trains the created model, and saves the history of the learning process for future use.\n",
        "        batch_size: Size of each batch for mini-batch optimization\n",
        "        epochs: Number of epochs to train\n",
        "        validation_split: Fraction of the training data to be used as validation data\n",
        "        '''\n",
        "        self.history=self.model.fit(X, y, batch_size=batch_size, epochs=epochs, validation_split=validation_split, callbacks=[EarlyStopping(monitor=\"val_accuracy\", mode=\"max\", patience=3)])\n",
        "    def predict(self,vecs):\n",
        "        #This function predicts the likelihood of a sentence being sarcastic, given the vectorized sentence\n",
        "        return self.model.predict(vecs)\n",
        "    def plot_loss_acc(self):\n",
        "        #This function plots the training and validation loss and accuracy per epoch.\n",
        "        history=self.history\n",
        "        epochs = [i+1 for i in range(len(history.history['accuracy']))]\n",
        "        plt.plot(epochs, history.history['accuracy'], 'r', label = 'Training accuary')\n",
        "        plt.plot(epochs, history.history['val_accuracy'], 'b', label = 'Validation accuracy')\n",
        "        plt.title('Training and Validation accuracy')\n",
        "        plt.legend()\n",
        "        plt.figure()\n",
        "        plt.plot(epochs, history.history['loss'], 'r', label = 'Training loss')\n",
        "        plt.plot(epochs, history.history['val_loss'], 'b', label = 'Validation loss')\n",
        "        plt.title('Training and Validation loss ')\n",
        "        plt.legend()\n",
        "        plt.show()\n",
        "\n",
        "    def visualize(self):\n",
        "        #This function saves the visualization of the network architecture for the created model, using keras's built-in function\n",
        "        plot_model(self.model, to_file='model_plot.png', show_shapes=True, show_layer_names=True)\n",
        "    def get_last_accuracy(self):\n",
        "        #This function returns the last recorded accuracy of the trained model\n",
        "        return self.history.history['val_accuracy'][-1]\n",
        "    def evaluate(self,X,y):\n",
        "        '''\n",
        "        This function evaluates the model on the test test, given the batch size and data, and returns a dictionary containing the accuracy, F1 score, precision, recall, and confusion matrix\n",
        "        '''\n",
        "        y_pred = self.model.predict(X)\n",
        "        y_pred=[0  if x<0.5 else 1 for x in y_pred]\n",
        "        results={}\n",
        "        results['precision']=precision_score(y, y_pred , average=\"macro\")\n",
        "        results['recall']=recall_score(y, y_pred , average=\"macro\")\n",
        "        results['f1']=f1_score(y, y_pred , average=\"macro\")\n",
        "        results['conf_matrix']=confusion_matrix(y, y_pred)\n",
        "        results['accuracy']=accuracy_score(y, y_pred)\n",
        "        return results\n"
      ],
      "execution_count": null,
      "outputs": []
    },
    {
      "cell_type": "markdown",
      "metadata": {
        "id": "DskoUPSIi7Ke"
      },
      "source": [
        "BERT Model and preprocess"
      ]
    },
    {
      "cell_type": "code",
      "metadata": {
        "id": "7gYWijfNi6HL"
      },
      "source": [
        "class DataProcessor_4:\n",
        "    def __init__(self,data,test_split):\n",
        "        '''\n",
        "        This class is responsible for storing and processing the data.\n",
        "        test_split: Fraction of the data to be used as test data\n",
        "        Other parameters are explained in the comments of NeuralNet class.\n",
        "        '''\n",
        "        X=data['headline']\n",
        "        y=data['is_sarcastic']\n",
        "        PRE_TRAINED_MODEL_NAME = 'bert-base-uncased'\n",
        "        self.tokenizer = BertTokenizer.from_pretrained(PRE_TRAINED_MODEL_NAME,do_lower_case = True)\n",
        "        def encoder(sentences):\n",
        "          ids = []\n",
        "          for sentence in sentences:\n",
        "            encoding = tokenizer.encode_plus(\n",
        "            sentence,\n",
        "            max_length=16,\n",
        "            truncation = True,\n",
        "            add_special_tokens=True,\n",
        "            return_token_type_ids=False,\n",
        "            pad_to_max_length=True,\n",
        "            return_attention_mask=False)\n",
        "            ids.append(encoding['input_ids'])\n",
        "          return ids\n",
        "\n",
        "        cachedStopWords = stopwords.words(\"english\")\n",
        "        def clean_text(text):\n",
        "            text = re.sub('\\[[^]]*\\]', ' ', text)\n",
        "            text = re.sub(r'http\\S+', ' ', text)\n",
        "            text=text.translate(str.maketrans('', '', string.punctuation))\n",
        "            text=\" \".join([x for x in text.split() if x not in cachedStopWords])\n",
        "            return text\n",
        "        X=X.apply(clean_text)\n",
        "        # train_sents,test_sents, train_labels, test_labels  = train_test_split(X,y,test_size=test_split)\n",
        "\n",
        "        X_train_2, X_test_2, y_train, y_test = train_test_split(X,y,test_size=test_split,random_state=101)\n",
        "        X_train = encoder(X_train_2)\n",
        "        X_test = encoder(X_test_2) \n",
        "        self.X_train = tf.convert_to_tensor(X_train)\n",
        "        self.X_test = tf.convert_to_tensor(X_test)\n",
        "        self.y_test = tf.convert_to_tensor(y_test)\n",
        "        self.y_train = tf.convert_to_tensor(y_train)\n",
        "    def texts_to_vecs(self,X):\n",
        "        #The processing consists of tokenizing and then padding the headlines.\n",
        "        return pad_sequences(self.tokenizer.texts_to_sequences(X), maxlen = self.max_len)\n",
        "class BERT:\n",
        "    def __init__(self,max_len,max_words,embedding_dim):\n",
        "        bert_encoder = TFBertModel.from_pretrained('bert-base-uncased')\n",
        "        input_word_ids = tf.keras.Input(shape=(16,), dtype=tf.int32, name=\"input_word_ids\")  \n",
        "        embedding = bert_encoder([input_word_ids])\n",
        "        dense = tf.keras.layers.Lambda(lambda seq: seq[:, 0, :])(embedding[0])\n",
        "        dense = tf.keras.layers.Dense(128, activation='relu')(dense)\n",
        "        dense = tf.keras.layers.Dropout(0.2)(dense)   \n",
        "        output = tf.keras.layers.Dense(1, activation='sigmoid')(dense)    \n",
        "        model = tf.keras.Model(inputs=[input_word_ids], outputs=output)  \n",
        "        model.compile(tf.keras.optimizers.Adam(1e-5), loss='binary_crossentropy', metrics=['accuracy'])\n",
        "\n",
        "        self.model=model\n",
        "    def train(self,X,y,batch_size,\n",
        "    epochs,\n",
        "    validation_split):\n",
        "        '''\n",
        "        This function trains the created model, and saves the history of the learning process for future use.\n",
        "        batch_size: Size of each batch for mini-batch optimization\n",
        "        epochs: Number of epochs to train\n",
        "        validation_split: Fraction of the training data to be used as validation data\n",
        "        '''\n",
        "        self.history=self.model.fit(X, y, batch_size=batch_size, epochs=epochs, validation_split=validation_split, callbacks=[EarlyStopping(monitor=\"val_accuracy\", mode=\"max\", patience=3)])\n",
        "    def predict(self,vecs):\n",
        "        #This function predicts the likelihood of a sentence being sarcastic, given the vectorized sentence\n",
        "        return self.model.predict(vecs)\n",
        "    def plot_loss_acc(self):\n",
        "        #This function plots the training and validation loss and accuracy per epoch.\n",
        "        history=self.history\n",
        "        epochs = [i+1 for i in range(len(history.history['accuracy']))]\n",
        "        plt.plot(epochs, history.history['accuracy'], 'r', label = 'Training accuary')\n",
        "        plt.plot(epochs, history.history['val_accuracy'], 'b', label = 'Validation accuracy')\n",
        "        plt.title('Training and Validation accuracy')\n",
        "        plt.legend()\n",
        "        plt.figure()\n",
        "        plt.plot(epochs, history.history['loss'], 'r', label = 'Training loss')\n",
        "        plt.plot(epochs, history.history['val_loss'], 'b', label = 'Validation loss')\n",
        "        plt.title('Training and Validation loss ')\n",
        "        plt.legend()\n",
        "        plt.show()\n",
        "\n",
        "    def visualize(self):\n",
        "        #This function saves the visualization of the network architecture for the created model, using keras's built-in function\n",
        "        plot_model(self.model, to_file='model_plot.png', show_shapes=True, show_layer_names=True)\n",
        "    def get_last_accuracy(self):\n",
        "        #This function returns the last recorded accuracy of the trained model\n",
        "        return self.history.history['val_accuracy'][-1]\n",
        "    def evaluate(self,X,y):\n",
        "        '''\n",
        "        This function evaluates the model on the test test, given the batch size and data, and returns a dictionary containing the accuracy, F1 score, precision, recall, and confusion matrix\n",
        "        '''\n",
        "        y_pred = self.model.predict(X)\n",
        "        y_pred=[0  if x<0.5 else 1 for x in y_pred]\n",
        "        results={}\n",
        "        results['precision']=precision_score(y, y_pred , average=\"macro\")\n",
        "        results['recall']=recall_score(y, y_pred , average=\"macro\")\n",
        "        results['f1']=f1_score(y, y_pred , average=\"macro\")\n",
        "        results['conf_matrix']=confusion_matrix(y, y_pred)\n",
        "        results['accuracy']=accuracy_score(y, y_pred)\n",
        "        return results\n",
        "\n"
      ],
      "execution_count": null,
      "outputs": []
    },
    {
      "cell_type": "markdown",
      "metadata": {
        "id": "7fZA29UDX2sE"
      },
      "source": [
        "ML Models for News Headline dataset"
      ]
    },
    {
      "cell_type": "code",
      "metadata": {
        "id": "r-2UmU7GU4Ly"
      },
      "source": [
        "validation_split=0.3\n",
        "dp2=DataProcessor_2(df,0.3)\n",
        "lr=LogisticReg()\n",
        "lr.train(dp2.X_train,dp2.y_train,validation_split)"
      ],
      "execution_count": null,
      "outputs": []
    },
    {
      "cell_type": "code",
      "metadata": {
        "id": "k9fDb-CIU3-C",
        "colab": {
          "base_uri": "https://localhost:8080/"
        },
        "outputId": "23172fc7-e320-41c6-9127-da911915db63"
      },
      "source": [
        "lr.evaluate(dp2.X_test,dp2.y_test)"
      ],
      "execution_count": null,
      "outputs": [
        {
          "output_type": "execute_result",
          "data": {
            "text/plain": [
              "{'accuracy': 0.817157660100006, 'conf_matrix': array([[7757, 1216],\n",
              "        [1819, 5807]]), 'f1': 0.8145989710357191, 'precision': 0.8184502843681895, 'recall': 0.8129781204791049}"
            ]
          },
          "metadata": {
            "tags": []
          },
          "execution_count": 16
        }
      ]
    },
    {
      "cell_type": "code",
      "metadata": {
        "colab": {
          "base_uri": "https://localhost:8080/",
          "height": 298
        },
        "id": "V9qrh_o7aGQY",
        "outputId": "967ce963-cf05-4468-984d-e34bf6ac1170"
      },
      "source": [
        "misclass_indices=lr.misclass_indices \n",
        "pl = make_pipeline(dp2.vectorizer, lr.model)\n",
        "explainer = LimeTextExplainer(class_names=['Non-sarcastic','Sarcastic'])\n",
        "# idx=misclass_indices[8]\n",
        "idx=450\n",
        "exp = explainer.explain_instance(df['headline'].iloc[idx], pl.predict_proba, num_features=5)\n",
        "%matplotlib inline\n",
        "fig = exp.as_pyplot_figure()\n",
        "print(\"Sentece: {}, Sarcastic? {}\".format(df['headline'].iloc[idx],df['is_sarcastic'].iloc[idx]))"
      ],
      "execution_count": null,
      "outputs": [
        {
          "output_type": "stream",
          "text": [
            "Sentece: the inside story of how congress sent the stock market tumbling, Sarcastic? 0\n"
          ],
          "name": "stdout"
        },
        {
          "output_type": "display_data",
          "data": {
            "image/png": "[encoded data removed]",
            "text/plain": [
              "<Figure size 432x288 with 1 Axes>"
            ]
          },
          "metadata": {
            "tags": [],
            "needs_background": "light"
          }
        }
      ]
    },
    {
      "cell_type": "code",
      "metadata": {
        "id": "K4BWaq1JjhOp"
      },
      "source": [
        "# df.loc[df['is_sarcastic']==1]"
      ],
      "execution_count": null,
      "outputs": []
    },
    {
      "cell_type": "code",
      "metadata": {
        "colab": {
          "base_uri": "https://localhost:8080/",
          "height": 298
        },
        "id": "zO4CFbwicX0j",
        "outputId": "41a3d6b6-921a-4be8-ecfc-168c0cf31bf9"
      },
      "source": [
        "idx=102\n",
        "exp = explainer.explain_instance(df['headline'].iloc[idx], pl.predict_proba, num_features=5)\n",
        "%matplotlib inline\n",
        "fig = exp.as_pyplot_figure()\n",
        "print(\"Sentece: {}, Sarcastic? {}\".format(df['headline'].iloc[idx],df['is_sarcastic'].iloc[idx]))"
      ],
      "execution_count": null,
      "outputs": [
        {
          "output_type": "stream",
          "text": [
            "Sentece: jealous gps clearly wants man to back over wife, Sarcastic? 1\n"
          ],
          "name": "stdout"
        },
        {
          "output_type": "display_data",
          "data": {
            "image/png": "[encoded data removed]",
            "text/plain": [
              "<Figure size 432x288 with 1 Axes>"
            ]
          },
          "metadata": {
            "tags": [],
            "needs_background": "light"
          }
        }
      ]
    },
    {
      "cell_type": "code",
      "metadata": {
        "id": "-xd__dFxkiTs"
      },
      "source": [
        ""
      ],
      "execution_count": null,
      "outputs": []
    },
    {
      "cell_type": "code",
      "metadata": {
        "id": "oOcIr2WAdtMO"
      },
      "source": [
        "svm=SVM()\n",
        "svm.train(dp2.X_train,dp2.y_train,validation_split)"
      ],
      "execution_count": null,
      "outputs": []
    },
    {
      "cell_type": "code",
      "metadata": {
        "colab": {
          "base_uri": "https://localhost:8080/"
        },
        "id": "bso3GR54etkl",
        "outputId": "ca104c3f-bcde-4df0-aa43-67da9bac98a2"
      },
      "source": [
        "svm.evaluate(dp2.X_test,dp2.y_test)"
      ],
      "execution_count": null,
      "outputs": [
        {
          "output_type": "execute_result",
          "data": {
            "text/plain": [
              "{'accuracy': 0.934152659798783, 'conf_matrix': array([[8550,  423],\n",
              "        [ 670, 6956]]), 'f1': 0.9335397810653013, 'precision': 0.9350035232187021, 'recall': 0.9325006227704882}"
            ]
          },
          "metadata": {
            "tags": []
          },
          "execution_count": 13
        }
      ]
    },
    {
      "cell_type": "code",
      "metadata": {
        "id": "R5I-M0RPjqBH"
      },
      "source": [
        "nb_acc=[]\n",
        "nb_alpha= [0.0001, 0.001, 0.01, 0.1, 1, 10, 100, 1000, 10000]\n",
        "for alpha in nb_alpha:\n",
        "    nb=NaiveBayes(alpha)\n",
        "    nb.train(dp2.X_train,dp2.y_train,validation_split)\n",
        "    nb_acc.append(nb.evaluate(dp2.X_test,dp2.y_test)['accuracy'])"
      ],
      "execution_count": null,
      "outputs": []
    },
    {
      "cell_type": "code",
      "metadata": {
        "colab": {
          "base_uri": "https://localhost:8080/",
          "height": 298
        },
        "id": "c_DVTEpzpCbw",
        "outputId": "6e3daaaf-2a85-4899-c92f-bf84d87b4e67"
      },
      "source": [
        "plt.plot(nb_alpha, nb_acc, 'r', label = 'Validation accuracy')\n",
        "plt.title('Validation accuracy for different values of alpha')\n",
        "plt.legend()\n",
        "plt.figure()\n",
        "plt.show()"
      ],
      "execution_count": null,
      "outputs": [
        {
          "output_type": "display_data",
          "data": {
            "image/png": "[encoded data removed]",
            "text/plain": [
              "<Figure size 432x288 with 1 Axes>"
            ]
          },
          "metadata": {
            "tags": [],
            "needs_background": "light"
          }
        },
        {
          "output_type": "display_data",
          "data": {
            "text/plain": [
              "<Figure size 432x288 with 0 Axes>"
            ]
          },
          "metadata": {
            "tags": []
          }
        }
      ]
    },
    {
      "cell_type": "code",
      "metadata": {
        "colab": {
          "base_uri": "https://localhost:8080/"
        },
        "id": "e4ctSWZbUEgs",
        "outputId": "077e23e9-9d99-4acd-863a-c3c52d96d90f"
      },
      "source": [
        "nb=NaiveBayes(alpha)\n",
        "nb.train(dp2.X_train,dp2.y_train,validation_split)\n",
        "nb.evaluate(dp2.X_test,dp2.y_test)"
      ],
      "execution_count": null,
      "outputs": [
        {
          "output_type": "execute_result",
          "data": {
            "text/plain": [
              "{'accuracy': 0.8699921682029038, 'conf_matrix': array([[8253,  720],\n",
              "        [1438, 6188]]), 'f1': 0.8679484559639365, 'precision': 0.873693958607599, 'recall': 0.8655969218960317}"
            ]
          },
          "metadata": {
            "tags": []
          },
          "execution_count": 14
        }
      ]
    },
    {
      "cell_type": "markdown",
      "metadata": {
        "id": "hXq8NwNJZSFW"
      },
      "source": [
        "Keras Model for News Headline dataset"
      ]
    },
    {
      "cell_type": "code",
      "metadata": {
        "id": "_xukVYTNWYQI"
      },
      "source": [
        "max_len = 100\n",
        "max_words = 10000\n",
        "embedding_dim = 100\n",
        "batch_size = 300\n",
        "epochs = 10\n",
        "validation_split=0.3"
      ],
      "execution_count": null,
      "outputs": []
    },
    {
      "cell_type": "code",
      "metadata": {
        "trusted": true,
        "colab": {
          "base_uri": "https://localhost:8080/"
        },
        "id": "aBEX4nR5-6DA",
        "outputId": "61f4ba4c-0817-47dd-fd48-4d04c1b82968"
      },
      "source": [
        "dp=DataProcessor(df,max_len,max_words,0.3)\n",
        "net=NeuralNet(max_len,max_words,embedding_dim)\n",
        "net.visualize()\n",
        "net.train(dp.X_train,dp.y_train,batch_size,epochs,validation_split)"
      ],
      "execution_count": null,
      "outputs": [
        {
          "output_type": "stream",
          "text": [
            "Epoch 1/10\n",
            "91/91 [==============================] - 7s 70ms/step - loss: 0.6270 - accuracy: 0.6327 - val_loss: 0.3327 - val_accuracy: 0.8551\n",
            "Epoch 2/10\n",
            "91/91 [==============================] - 6s 67ms/step - loss: 0.2455 - accuracy: 0.9049 - val_loss: 0.2465 - val_accuracy: 0.9046\n",
            "Epoch 3/10\n",
            "91/91 [==============================] - 6s 68ms/step - loss: 0.1156 - accuracy: 0.9641 - val_loss: 0.2335 - val_accuracy: 0.9148\n",
            "Epoch 4/10\n",
            "91/91 [==============================] - 6s 68ms/step - loss: 0.0474 - accuracy: 0.9903 - val_loss: 0.2491 - val_accuracy: 0.9173\n",
            "Epoch 5/10\n",
            "91/91 [==============================] - 6s 67ms/step - loss: 0.0207 - accuracy: 0.9966 - val_loss: 0.2683 - val_accuracy: 0.9189\n",
            "Epoch 6/10\n",
            "91/91 [==============================] - 6s 68ms/step - loss: 0.0100 - accuracy: 0.9988 - val_loss: 0.2893 - val_accuracy: 0.9199\n",
            "Epoch 7/10\n",
            "91/91 [==============================] - 6s 68ms/step - loss: 0.0062 - accuracy: 0.9992 - val_loss: 0.3142 - val_accuracy: 0.9178\n",
            "Epoch 8/10\n",
            "91/91 [==============================] - 6s 67ms/step - loss: 0.0042 - accuracy: 0.9995 - val_loss: 0.3297 - val_accuracy: 0.9178\n",
            "Epoch 9/10\n",
            "91/91 [==============================] - 6s 68ms/step - loss: 0.0026 - accuracy: 0.9998 - val_loss: 0.3435 - val_accuracy: 0.9167\n"
          ],
          "name": "stdout"
        }
      ]
    },
    {
      "cell_type": "code",
      "metadata": {
        "colab": {
          "base_uri": "https://localhost:8080/"
        },
        "id": "DsUpZ4Io9xgx",
        "outputId": "c4d18258-39b0-4085-8588-7f2b32e3cb3f"
      },
      "source": [
        "net.evaluate(dp.X_test,dp.y_test)"
      ],
      "execution_count": null,
      "outputs": [
        {
          "output_type": "execute_result",
          "data": {
            "text/plain": [
              "{'accuracy': 0.45984697873365865, 'conf_matrix': array([[3909, 5064],\n",
              "        [3902, 3724]]), 'f1': 0.45977987443117163, 'precision': 0.4621038791564503, 'recall': 0.46198482675932334}"
            ]
          },
          "metadata": {
            "tags": []
          },
          "execution_count": 39
        }
      ]
    },
    {
      "cell_type": "code",
      "metadata": {
        "id": "iHaWujZpeyCm",
        "colab": {
          "base_uri": "https://localhost:8080/",
          "height": 545
        },
        "outputId": "e912f80b-e642-4402-ef30-5a4a2d44cb27"
      },
      "source": [
        "net.plot_loss_acc()"
      ],
      "execution_count": null,
      "outputs": [
        {
          "output_type": "display_data",
          "data": {
            "image/png": "[encoded data removed]",
            "text/plain": [
              "<Figure size 432x288 with 1 Axes>"
            ]
          },
          "metadata": {
            "tags": [],
            "needs_background": "light"
          }
        },
        {
          "output_type": "display_data",
          "data": {
            "image/png": "[encoded data removed]",
            "text/plain": [
              "<Figure size 432x288 with 1 Axes>"
            ]
          },
          "metadata": {
            "tags": [],
            "needs_background": "light"
          }
        }
      ]
    },
    {
      "cell_type": "markdown",
      "metadata": {
        "id": "iYbYoJ45Z6zQ"
      },
      "source": [
        "ML Models for Reddit dataset"
      ]
    },
    {
      "cell_type": "code",
      "metadata": {
        "id": "U7nIwOJ6aIGG"
      },
      "source": [
        "max_len = 100\n",
        "max_words = 10000\n",
        "embedding_dim = 100\n",
        "batch_size = 300\n",
        "epochs = 10\n",
        "validation_split=0.3"
      ],
      "execution_count": null,
      "outputs": []
    },
    {
      "cell_type": "code",
      "metadata": {
        "colab": {
          "base_uri": "https://localhost:8080/"
        },
        "id": "Qx_glIXRbtwl",
        "outputId": "0d3813b0-3c9f-4bdc-ef9f-d94207b886f9"
      },
      "source": [
        "dp3=DataProcessor_3(df2,max_len,max_words,0.3)"
      ],
      "execution_count": null,
      "outputs": [
        {
          "output_type": "stream",
          "text": [
            "0                                                nc nh\n",
            "1     know west teams play west teams east teams right\n",
            "2    underdogs earlier today since gronks announcem...\n",
            "3                  meme funny none new york nigga ones\n",
            "4                                  could use one tools\n",
            "Name: comment, dtype: object\n"
          ],
          "name": "stdout"
        }
      ]
    },
    {
      "cell_type": "code",
      "metadata": {
        "id": "Hghq9_Cll2tu"
      },
      "source": [
        "lr=LogisticReg()\n",
        "lr.train(dp3.X_train,dp3.y_train,validation_split)"
      ],
      "execution_count": null,
      "outputs": []
    },
    {
      "cell_type": "code",
      "metadata": {
        "colab": {
          "base_uri": "https://localhost:8080/"
        },
        "id": "GTXWZiImaIGH",
        "outputId": "a677c74a-8e8e-4d57-806d-d789683a6f6c"
      },
      "source": [
        "lr.evaluate(dp3.X_test,dp3.y_test)"
      ],
      "execution_count": null,
      "outputs": [
        {
          "output_type": "execute_result",
          "data": {
            "text/plain": [
              "{'accuracy': 0.5314478682988603, 'conf_matrix': array([[88428, 62927],\n",
              "        [79153, 72724]]), 'f1': 0.5301877979137759, 'precision': 0.5318921172932762, 'recall': 0.5315385953885392}"
            ]
          },
          "metadata": {
            "tags": []
          },
          "execution_count": 32
        }
      ]
    },
    {
      "cell_type": "code",
      "metadata": {
        "id": "OmbRqqb6aIGI"
      },
      "source": [
        "#$svm is omitted because it was taking a very long time to execute\n",
        "# svm=SVM()\n",
        "# svm.train(dp3.X_train,dp3.y_train,validation_split)"
      ],
      "execution_count": null,
      "outputs": []
    },
    {
      "cell_type": "code",
      "metadata": {
        "id": "iS3hT_kCaIGI"
      },
      "source": [
        "# svm.evaluate(dp3.X_test,dp3.y_test)"
      ],
      "execution_count": null,
      "outputs": []
    },
    {
      "cell_type": "code",
      "metadata": {
        "colab": {
          "base_uri": "https://localhost:8080/"
        },
        "id": "c6saLwO5aIGJ",
        "outputId": "c37e5c26-a790-4474-9dee-412997e8727a"
      },
      "source": [
        "nb=NaiveBayes(0.1)\n",
        "nb.train(dp3.X_train,dp3.y_train,validation_split)\n",
        "nb.evaluate(dp3.X_test,dp3.y_test)"
      ],
      "execution_count": null,
      "outputs": [
        {
          "output_type": "execute_result",
          "data": {
            "text/plain": [
              "{'accuracy': 0.5272035932883073, 'conf_matrix': array([[ 24356, 126999],\n",
              "        [ 16368, 135509]]), 'f1': 0.4538143123913628, 'precision': 0.5571419375600561, 'recall': 0.5265741359102557}"
            ]
          },
          "metadata": {
            "tags": []
          },
          "execution_count": 19
        }
      ]
    },
    {
      "cell_type": "markdown",
      "metadata": {
        "id": "P0eV2pEaaIGK"
      },
      "source": [
        "Keras Model for Reddit dataset"
      ]
    },
    {
      "cell_type": "code",
      "metadata": {
        "id": "uAU3_XlKaIGK"
      },
      "source": [
        ""
      ],
      "execution_count": null,
      "outputs": []
    },
    {
      "cell_type": "code",
      "metadata": {
        "trusted": true,
        "colab": {
          "base_uri": "https://localhost:8080/"
        },
        "id": "PmIYnpPqaIGK",
        "outputId": "0422fd42-b7b1-4c40-b474-474f529ffc72"
      },
      "source": [
        "net=NeuralNet(max_len,max_words,embedding_dim)\n",
        "net.train(dp3.X_train,dp3.y_train,batch_size,epochs,validation_split)"
      ],
      "execution_count": null,
      "outputs": [
        {
          "output_type": "stream",
          "text": [
            "Epoch 1/10\n",
            "1651/1651 [==============================] - 109s 66ms/step - loss: 0.6235 - accuracy: 0.6408 - val_loss: 0.5872 - val_accuracy: 0.6854\n",
            "Epoch 2/10\n",
            "1651/1651 [==============================] - 108s 66ms/step - loss: 0.5678 - accuracy: 0.7022 - val_loss: 0.5885 - val_accuracy: 0.6846\n",
            "Epoch 3/10\n",
            "1651/1651 [==============================] - 108s 66ms/step - loss: 0.5387 - accuracy: 0.7209 - val_loss: 0.6041 - val_accuracy: 0.6789\n",
            "Epoch 4/10\n",
            "1651/1651 [==============================] - 109s 66ms/step - loss: 0.5046 - accuracy: 0.7410 - val_loss: 0.6319 - val_accuracy: 0.6734\n"
          ],
          "name": "stdout"
        }
      ]
    },
    {
      "cell_type": "code",
      "metadata": {
        "colab": {
          "base_uri": "https://localhost:8080/"
        },
        "id": "6eGE28OfaIGK",
        "outputId": "51cc8cb3-79dd-4fde-b7c9-171c2baa3705"
      },
      "source": [
        "net.evaluate(dp3.X_test,dp3.y_test)"
      ],
      "execution_count": null,
      "outputs": [
        {
          "output_type": "execute_result",
          "data": {
            "text/plain": [
              "{'accuracy': 0.6721487178134233, 'conf_matrix': array([[105947,  45408],\n",
              "        [ 54007,  97870]]), 'f1': 0.6719159434052312, 'precision': 0.6727184157486623, 'recall': 0.6721965630962288}"
            ]
          },
          "metadata": {
            "tags": []
          },
          "execution_count": 42
        }
      ]
    },
    {
      "cell_type": "code",
      "metadata": {
        "colab": {
          "base_uri": "https://localhost:8080/",
          "height": 545
        },
        "id": "VgcbbtWNaIGK",
        "outputId": "bbfa366d-5db3-4379-faf2-a402693b1997"
      },
      "source": [
        "net.plot_loss_acc()"
      ],
      "execution_count": null,
      "outputs": [
        {
          "output_type": "display_data",
          "data": {
            "image/png": "[encoded data removed]",
            "text/plain": [
              "<Figure size 432x288 with 1 Axes>"
            ]
          },
          "metadata": {
            "tags": [],
            "needs_background": "light"
          }
        },
        {
          "output_type": "display_data",
          "data": {
            "image/png": "[encoded data removed]",
            "text/plain": [
              "<Figure size 432x288 with 1 Axes>"
            ]
          },
          "metadata": {
            "tags": [],
            "needs_background": "light"
          }
        }
      ]
    },
    {
      "cell_type": "code",
      "metadata": {
        "id": "MUIDH4efncwj"
      },
      "source": [
        ""
      ],
      "execution_count": null,
      "outputs": []
    },
    {
      "cell_type": "markdown",
      "metadata": {
        "id": "H6-ftqqAta_2"
      },
      "source": [
        "BERT for News Dataset"
      ]
    },
    {
      "cell_type": "code",
      "metadata": {
        "id": "b9kJUS6NtasU"
      },
      "source": [
        "max_len = 100\n",
        "max_words = 10000\n",
        "embedding_dim = 100\n",
        "batch_size = 300\n",
        "epochs = 10\n",
        "validation_split=0.3\n",
        "dp4=DataProcessor_4(df,max_len,max_words,0.3)\n",
        "net=BERT(max_len,max_words,embedding_dim)\n",
        "net.visualize()\n",
        "net.train(dp.X_train,dp.y_train,batch_size,epochs,validation_split)"
      ],
      "execution_count": null,
      "outputs": []
    },
    {
      "cell_type": "code",
      "metadata": {
        "id": "NqeSZY4Jtmhv"
      },
      "source": [
        "net.evaluate(dp4.X_test,dp4.y_test)"
      ],
      "execution_count": null,
      "outputs": []
    },
    {
      "cell_type": "code",
      "metadata": {
        "id": "MQTQwITQtnKE"
      },
      "source": [
        "net.plot_loss_acc()"
      ],
      "execution_count": null,
      "outputs": []
    },
    {
      "cell_type": "code",
      "metadata": {
        "id": "KlbXVdfhndS0"
      },
      "source": [
        ""
      ],
      "execution_count": null,
      "outputs": []
    }
  ]
}