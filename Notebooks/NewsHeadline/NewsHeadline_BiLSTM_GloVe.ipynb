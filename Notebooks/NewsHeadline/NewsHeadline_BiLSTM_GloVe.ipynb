{
  "nbformat": 4,
  "nbformat_minor": 0,
  "metadata": {
    "kernelspec": {
      "language": "python",
      "display_name": "Python 3",
      "name": "python3"
    },
    "language_info": {
      "name": "python",
      "version": "3.7.6",
      "mimetype": "text/x-python",
      "codemirror_mode": {
        "name": "ipython",
        "version": 3
      },
      "pygments_lexer": "ipython3",
      "nbconvert_exporter": "python",
      "file_extension": ".py"
    },
    "colab": {
      "name": "NewsHeadline_BiLSTM-GloVe",
      "provenance": [],
      "collapsed_sections": [],
      "toc_visible": true
    }
  },
  "cells": [
    {
      "cell_type": "markdown",
      "metadata": {
        "id": "beWUl69M7p4G"
      },
      "source": [
        "# Sarcasm Detection on NewsHeadline with LSTM & GloVe "
      ]
    },
    {
      "cell_type": "markdown",
      "metadata": {
        "id": "l6BhFHQW-dOE"
      },
      "source": [
        "### 1- Preliminaries"
      ]
    },
    {
      "cell_type": "code",
      "metadata": {
        "trusted": true,
        "id": "ImrunOLOiXLG"
      },
      "source": [
        "# numpy module for numeric data processing and vectorization\n",
        "import numpy as np\n",
        "\n",
        "# pandas module for opening dataset & processing it\n",
        "import pandas as pd\n",
        "\n",
        "# for text cleaning purposes\n",
        "import re\n",
        "\n",
        "# to fix random seeds \n",
        "import os\n",
        "import random\n",
        "import nltk\n",
        "from nltk.corpus import stopwords\n",
        "\n",
        "# for making progress bar\n",
        "from tqdm.notebook import tqdm\n",
        "\n",
        "# for making plots\n",
        "import matplotlib.pyplot as plt\n",
        "import seaborn as sns\n",
        "plt.style.use('ggplot')\n",
        "\n",
        "# for making word cloud\n",
        "from wordcloud import WordCloud, STOPWORDS\n",
        "\n",
        "# evaluation metrics \n",
        "from sklearn.metrics import accuracy_score, confusion_matrix, precision_recall_fscore_support\n",
        "\n",
        "# keras for deep learning model creation\n",
        "from keras.preprocessing.text import Tokenizer\n",
        "from keras.preprocessing.sequence import pad_sequences\n",
        "from keras.layers import Dense, Input, LSTM, Embedding, Dropout, Activation, Flatten, Bidirectional, GlobalMaxPool1D\n",
        "from keras.models import Model\n",
        "from keras.utils import plot_model\n",
        "\n",
        "# other modules\n",
        "import tensorflow as tf\n",
        "import torch"
      ],
      "execution_count": null,
      "outputs": []
    },
    {
      "cell_type": "markdown",
      "metadata": {
        "id": "zvfmKzasiXLH"
      },
      "source": [
        "### 2- Reading the dataset \n",
        "Pandas is the best when it comes to read a CSV file!"
      ]
    },
    {
      "cell_type": "code",
      "metadata": {
        "trusted": true,
        "id": "Asalai0aiXLH",
        "colab": {
          "base_uri": "https://localhost:8080/",
          "height": 198
        },
        "outputId": "d44351ed-45f7-485e-f130-9bc625c01a4f"
      },
      "source": [
        "df = pd.read_json(\"/content/drive/MyDrive/Sarcasm_Headlines_Dataset_v2.json\",lines=True)\n",
        "df.head()"
      ],
      "execution_count": null,
      "outputs": [
        {
          "output_type": "execute_result",
          "data": {
            "text/html": [
              "<div>\n",
              "<style scoped>\n",
              "    .dataframe tbody tr th:only-of-type {\n",
              "        vertical-align: middle;\n",
              "    }\n",
              "\n",
              "    .dataframe tbody tr th {\n",
              "        vertical-align: top;\n",
              "    }\n",
              "\n",
              "    .dataframe thead th {\n",
              "        text-align: right;\n",
              "    }\n",
              "</style>\n",
              "<table border=\"1\" class=\"dataframe\">\n",
              "  <thead>\n",
              "    <tr style=\"text-align: right;\">\n",
              "      <th></th>\n",
              "      <th>is_sarcastic</th>\n",
              "      <th>headline</th>\n",
              "      <th>article_link</th>\n",
              "    </tr>\n",
              "  </thead>\n",
              "  <tbody>\n",
              "    <tr>\n",
              "      <th>0</th>\n",
              "      <td>1</td>\n",
              "      <td>thirtysomething scientists unveil doomsday clo...</td>\n",
              "      <td>https://www.theonion.com/thirtysomething-scien...</td>\n",
              "    </tr>\n",
              "    <tr>\n",
              "      <th>1</th>\n",
              "      <td>0</td>\n",
              "      <td>dem rep. totally nails why congress is falling...</td>\n",
              "      <td>https://www.huffingtonpost.com/entry/donna-edw...</td>\n",
              "    </tr>\n",
              "    <tr>\n",
              "      <th>2</th>\n",
              "      <td>0</td>\n",
              "      <td>eat your veggies: 9 deliciously different recipes</td>\n",
              "      <td>https://www.huffingtonpost.com/entry/eat-your-...</td>\n",
              "    </tr>\n",
              "    <tr>\n",
              "      <th>3</th>\n",
              "      <td>1</td>\n",
              "      <td>inclement weather prevents liar from getting t...</td>\n",
              "      <td>https://local.theonion.com/inclement-weather-p...</td>\n",
              "    </tr>\n",
              "    <tr>\n",
              "      <th>4</th>\n",
              "      <td>1</td>\n",
              "      <td>mother comes pretty close to using word 'strea...</td>\n",
              "      <td>https://www.theonion.com/mother-comes-pretty-c...</td>\n",
              "    </tr>\n",
              "  </tbody>\n",
              "</table>\n",
              "</div>"
            ],
            "text/plain": [
              "   is_sarcastic  ...                                       article_link\n",
              "0             1  ...  https://www.theonion.com/thirtysomething-scien...\n",
              "1             0  ...  https://www.huffingtonpost.com/entry/donna-edw...\n",
              "2             0  ...  https://www.huffingtonpost.com/entry/eat-your-...\n",
              "3             1  ...  https://local.theonion.com/inclement-weather-p...\n",
              "4             1  ...  https://www.theonion.com/mother-comes-pretty-c...\n",
              "\n",
              "[5 rows x 3 columns]"
            ]
          },
          "metadata": {
            "tags": []
          },
          "execution_count": 5
        }
      ]
    },
    {
      "cell_type": "markdown",
      "metadata": {
        "id": "PCGzhrfmDOhq"
      },
      "source": [
        "### 3- Pre-processing\n",
        "Now, Let's apply pre-processing operations on our text data.<br>\n",
        "One of the most common things we can do is to remove `contractions`.<br>\n"
      ]
    },
    {
      "cell_type": "code",
      "metadata": {
        "trusted": true,
        "id": "P7hnnRmkiXLI",
        "colab": {
          "base_uri": "https://localhost:8080/"
        },
        "outputId": "63490063-1851-40e0-eca5-e7e910a4b5aa"
      },
      "source": [
        "df.isna().sum() "
      ],
      "execution_count": null,
      "outputs": [
        {
          "output_type": "execute_result",
          "data": {
            "text/plain": [
              "is_sarcastic    0\n",
              "headline        0\n",
              "article_link    0\n",
              "dtype: int64"
            ]
          },
          "metadata": {
            "tags": []
          },
          "execution_count": 6
        }
      ]
    },
    {
      "cell_type": "code",
      "metadata": {
        "colab": {
          "base_uri": "https://localhost:8080/",
          "height": 138
        },
        "id": "60QKSqJM_ZDR",
        "outputId": "fbf51769-e920-423b-dfea-4094753fbbe3"
      },
      "source": [
        "# Since the article link is not required for analysis, thus, we can delete it.\n",
        "df = df.iloc[:, :2] \n",
        "df.head(3)"
      ],
      "execution_count": null,
      "outputs": [
        {
          "output_type": "execute_result",
          "data": {
            "text/html": [
              "<div>\n",
              "<style scoped>\n",
              "    .dataframe tbody tr th:only-of-type {\n",
              "        vertical-align: middle;\n",
              "    }\n",
              "\n",
              "    .dataframe tbody tr th {\n",
              "        vertical-align: top;\n",
              "    }\n",
              "\n",
              "    .dataframe thead th {\n",
              "        text-align: right;\n",
              "    }\n",
              "</style>\n",
              "<table border=\"1\" class=\"dataframe\">\n",
              "  <thead>\n",
              "    <tr style=\"text-align: right;\">\n",
              "      <th></th>\n",
              "      <th>is_sarcastic</th>\n",
              "      <th>headline</th>\n",
              "    </tr>\n",
              "  </thead>\n",
              "  <tbody>\n",
              "    <tr>\n",
              "      <th>0</th>\n",
              "      <td>1</td>\n",
              "      <td>thirtysomething scientists unveil doomsday clo...</td>\n",
              "    </tr>\n",
              "    <tr>\n",
              "      <th>1</th>\n",
              "      <td>0</td>\n",
              "      <td>dem rep. totally nails why congress is falling...</td>\n",
              "    </tr>\n",
              "    <tr>\n",
              "      <th>2</th>\n",
              "      <td>0</td>\n",
              "      <td>eat your veggies: 9 deliciously different recipes</td>\n",
              "    </tr>\n",
              "  </tbody>\n",
              "</table>\n",
              "</div>"
            ],
            "text/plain": [
              "   is_sarcastic                                           headline\n",
              "0             1  thirtysomething scientists unveil doomsday clo...\n",
              "1             0  dem rep. totally nails why congress is falling...\n",
              "2             0  eat your veggies: 9 deliciously different recipes"
            ]
          },
          "metadata": {
            "tags": []
          },
          "execution_count": 7
        }
      ]
    },
    {
      "cell_type": "code",
      "metadata": {
        "trusted": true,
        "id": "HlVbxdGCiXLK",
        "colab": {
          "base_uri": "https://localhost:8080/"
        },
        "outputId": "d726300f-1016-42a5-d40f-1520d0880c9b"
      },
      "source": [
        "nltk.download('stopwords')\n",
        "stop = list(stopwords.words('english'))"
      ],
      "execution_count": null,
      "outputs": [
        {
          "output_type": "stream",
          "text": [
            "[nltk_data] Downloading package stopwords to /root/nltk_data...\n",
            "[nltk_data]   Unzipping corpora/stopwords.zip.\n"
          ],
          "name": "stdout"
        }
      ]
    },
    {
      "cell_type": "code",
      "metadata": {
        "trusted": true,
        "id": "A_HTY1QxiXLL"
      },
      "source": [
        "# Transforming text into lower case\n",
        "def lowercase(text): \n",
        "      return text.lower()\n",
        "\n",
        "# Removing stopwords to avoid overfitting\n",
        "def remove_stopwords(text):  \n",
        "    mylist = []\n",
        "    for i in text.split():\n",
        "        if i not in stop:\n",
        "            mylist.append(i)\n",
        "    return \" \".join(mylist)\n",
        "\n",
        "# Removing punctuations\n",
        "def remove_punct(text): \n",
        "      return re.sub('[^a-z]+',' ',text)\n",
        "\n",
        "def cleanmepls(text):\n",
        "  text = lowercase(text)\n",
        "  text = remove_punct(text)\n",
        "  text = remove_stopwords(text)\n",
        "  return text\n",
        "\n",
        "df['headline_new'] = df['headline'].apply(cleanmepls)"
      ],
      "execution_count": null,
      "outputs": []
    },
    {
      "cell_type": "code",
      "metadata": {
        "trusted": true,
        "id": "02HRESQPiXLL",
        "colab": {
          "base_uri": "https://localhost:8080/",
          "height": 648
        },
        "outputId": "722abe39-9afd-4ff6-8005-c983c73c4458"
      },
      "source": [
        "#observe changes\n",
        "df.head(20) "
      ],
      "execution_count": null,
      "outputs": [
        {
          "output_type": "execute_result",
          "data": {
            "text/html": [
              "<div>\n",
              "<style scoped>\n",
              "    .dataframe tbody tr th:only-of-type {\n",
              "        vertical-align: middle;\n",
              "    }\n",
              "\n",
              "    .dataframe tbody tr th {\n",
              "        vertical-align: top;\n",
              "    }\n",
              "\n",
              "    .dataframe thead th {\n",
              "        text-align: right;\n",
              "    }\n",
              "</style>\n",
              "<table border=\"1\" class=\"dataframe\">\n",
              "  <thead>\n",
              "    <tr style=\"text-align: right;\">\n",
              "      <th></th>\n",
              "      <th>is_sarcastic</th>\n",
              "      <th>headline</th>\n",
              "      <th>headline_new</th>\n",
              "    </tr>\n",
              "  </thead>\n",
              "  <tbody>\n",
              "    <tr>\n",
              "      <th>0</th>\n",
              "      <td>1</td>\n",
              "      <td>thirtysomething scientists unveil doomsday clo...</td>\n",
              "      <td>thirtysomething scientists unveil doomsday clo...</td>\n",
              "    </tr>\n",
              "    <tr>\n",
              "      <th>1</th>\n",
              "      <td>0</td>\n",
              "      <td>dem rep. totally nails why congress is falling...</td>\n",
              "      <td>dem rep totally nails congress falling short g...</td>\n",
              "    </tr>\n",
              "    <tr>\n",
              "      <th>2</th>\n",
              "      <td>0</td>\n",
              "      <td>eat your veggies: 9 deliciously different recipes</td>\n",
              "      <td>eat veggies deliciously different recipes</td>\n",
              "    </tr>\n",
              "    <tr>\n",
              "      <th>3</th>\n",
              "      <td>1</td>\n",
              "      <td>inclement weather prevents liar from getting t...</td>\n",
              "      <td>inclement weather prevents liar getting work</td>\n",
              "    </tr>\n",
              "    <tr>\n",
              "      <th>4</th>\n",
              "      <td>1</td>\n",
              "      <td>mother comes pretty close to using word 'strea...</td>\n",
              "      <td>mother comes pretty close using word streaming...</td>\n",
              "    </tr>\n",
              "    <tr>\n",
              "      <th>5</th>\n",
              "      <td>0</td>\n",
              "      <td>my white inheritance</td>\n",
              "      <td>white inheritance</td>\n",
              "    </tr>\n",
              "    <tr>\n",
              "      <th>6</th>\n",
              "      <td>0</td>\n",
              "      <td>5 ways to file your taxes with less stress</td>\n",
              "      <td>ways file taxes less stress</td>\n",
              "    </tr>\n",
              "    <tr>\n",
              "      <th>7</th>\n",
              "      <td>1</td>\n",
              "      <td>richard branson's global-warming donation near...</td>\n",
              "      <td>richard branson global warming donation nearly...</td>\n",
              "    </tr>\n",
              "    <tr>\n",
              "      <th>8</th>\n",
              "      <td>1</td>\n",
              "      <td>shadow government getting too large to meet in...</td>\n",
              "      <td>shadow government getting large meet marriott ...</td>\n",
              "    </tr>\n",
              "    <tr>\n",
              "      <th>9</th>\n",
              "      <td>0</td>\n",
              "      <td>lots of parents know this scenario</td>\n",
              "      <td>lots parents know scenario</td>\n",
              "    </tr>\n",
              "    <tr>\n",
              "      <th>10</th>\n",
              "      <td>0</td>\n",
              "      <td>this lesbian is considered a father in indiana...</td>\n",
              "      <td>lesbian considered father indiana amazing one</td>\n",
              "    </tr>\n",
              "    <tr>\n",
              "      <th>11</th>\n",
              "      <td>0</td>\n",
              "      <td>amanda peet told her daughter sex is 'a specia...</td>\n",
              "      <td>amanda peet told daughter sex special hug</td>\n",
              "    </tr>\n",
              "    <tr>\n",
              "      <th>12</th>\n",
              "      <td>0</td>\n",
              "      <td>what to know regarding current treatments for ...</td>\n",
              "      <td>know regarding current treatments ebola</td>\n",
              "    </tr>\n",
              "    <tr>\n",
              "      <th>13</th>\n",
              "      <td>0</td>\n",
              "      <td>chris christie suggests hillary clinton was to...</td>\n",
              "      <td>chris christie suggests hillary clinton blame ...</td>\n",
              "    </tr>\n",
              "    <tr>\n",
              "      <th>14</th>\n",
              "      <td>1</td>\n",
              "      <td>ford develops new suv that runs purely on gaso...</td>\n",
              "      <td>ford develops new suv runs purely gasoline</td>\n",
              "    </tr>\n",
              "    <tr>\n",
              "      <th>15</th>\n",
              "      <td>0</td>\n",
              "      <td>uber ceo travis kalanick stepping down from tr...</td>\n",
              "      <td>uber ceo travis kalanick stepping trump econom...</td>\n",
              "    </tr>\n",
              "    <tr>\n",
              "      <th>16</th>\n",
              "      <td>1</td>\n",
              "      <td>area boy enters jumping-and-touching-tops-of-d...</td>\n",
              "      <td>area boy enters jumping touching tops doorways...</td>\n",
              "    </tr>\n",
              "    <tr>\n",
              "      <th>17</th>\n",
              "      <td>1</td>\n",
              "      <td>area man does most of his traveling by gurney</td>\n",
              "      <td>area man traveling gurney</td>\n",
              "    </tr>\n",
              "    <tr>\n",
              "      <th>18</th>\n",
              "      <td>0</td>\n",
              "      <td>leave no person with disabilities behind</td>\n",
              "      <td>leave person disabilities behind</td>\n",
              "    </tr>\n",
              "    <tr>\n",
              "      <th>19</th>\n",
              "      <td>0</td>\n",
              "      <td>lin-manuel miranda would like to remind you to...</td>\n",
              "      <td>lin manuel miranda would like remind put phone...</td>\n",
              "    </tr>\n",
              "  </tbody>\n",
              "</table>\n",
              "</div>"
            ],
            "text/plain": [
              "    is_sarcastic  ...                                       headline_new\n",
              "0              1  ...  thirtysomething scientists unveil doomsday clo...\n",
              "1              0  ...  dem rep totally nails congress falling short g...\n",
              "2              0  ...          eat veggies deliciously different recipes\n",
              "3              1  ...       inclement weather prevents liar getting work\n",
              "4              1  ...  mother comes pretty close using word streaming...\n",
              "5              0  ...                                  white inheritance\n",
              "6              0  ...                        ways file taxes less stress\n",
              "7              1  ...  richard branson global warming donation nearly...\n",
              "8              1  ...  shadow government getting large meet marriott ...\n",
              "9              0  ...                         lots parents know scenario\n",
              "10             0  ...      lesbian considered father indiana amazing one\n",
              "11             0  ...          amanda peet told daughter sex special hug\n",
              "12             0  ...            know regarding current treatments ebola\n",
              "13             0  ...  chris christie suggests hillary clinton blame ...\n",
              "14             1  ...         ford develops new suv runs purely gasoline\n",
              "15             0  ...  uber ceo travis kalanick stepping trump econom...\n",
              "16             1  ...  area boy enters jumping touching tops doorways...\n",
              "17             1  ...                          area man traveling gurney\n",
              "18             0  ...                   leave person disabilities behind\n",
              "19             0  ...  lin manuel miranda would like remind put phone...\n",
              "\n",
              "[20 rows x 3 columns]"
            ]
          },
          "metadata": {
            "tags": []
          },
          "execution_count": 10
        }
      ]
    },
    {
      "cell_type": "code",
      "metadata": {
        "trusted": true,
        "id": "k6HR_nqhiXLL"
      },
      "source": [
        "del df['headline']"
      ],
      "execution_count": null,
      "outputs": []
    },
    {
      "cell_type": "markdown",
      "metadata": {
        "id": "xstZGvExiXLP"
      },
      "source": [
        "### 4- Tokenization"
      ]
    },
    {
      "cell_type": "code",
      "metadata": {
        "trusted": true,
        "id": "0SW__YngiXLP",
        "colab": {
          "base_uri": "https://localhost:8080/"
        },
        "outputId": "80fcdd8c-c6e4-45a3-c529-da90a59a0025"
      },
      "source": [
        "embedding_dim = 200\n",
        "max_length = 20 \n",
        "trunc_type = 'post'\n",
        "pad_type = 'post'\n",
        "training_size = len(df)\n",
        "test_portion = 0.3\n",
        "# print(training_size)"
      ],
      "execution_count": null,
      "outputs": [
        {
          "output_type": "execute_result",
          "data": {
            "text/plain": [
              "28619"
            ]
          },
          "metadata": {
            "tags": []
          },
          "execution_count": 12
        }
      ]
    },
    {
      "cell_type": "code",
      "metadata": {
        "trusted": true,
        "id": "QqinQ9kfiXLP",
        "colab": {
          "base_uri": "https://localhost:8080/"
        },
        "outputId": "f0674544-4581-41e5-ac90-69ee4737c6b5"
      },
      "source": [
        "# Creating the tokenizer object\n",
        "tokenizer = Tokenizer()\n",
        "# Creating word index dictionary\n",
        "tokenizer.fit_on_texts(df['headline_new']) \n",
        "word_index_dict = tokenizer.word_index \n",
        "vocab_size = len(word_index_dict) + 1\n",
        "# print(vocab_size)"
      ],
      "execution_count": null,
      "outputs": [
        {
          "output_type": "stream",
          "text": [
            "25766\n"
          ],
          "name": "stdout"
        }
      ]
    },
    {
      "cell_type": "code",
      "metadata": {
        "trusted": true,
        "id": "SAr9bOX2iXLQ",
        "colab": {
          "base_uri": "https://localhost:8080/"
        },
        "outputId": "21f2aa15-3056-4c86-ef36-4581be22ca25"
      },
      "source": [
        "# Transforming the words to the vector representation\n",
        "sequence = tokenizer.texts_to_sequences(df['headline_new']) \n",
        "# Some padding for having the same length\n",
        "padding = pad_sequences(sequences=sequence, maxlen=max_length, padding=pad_type, truncating=trunc_type) \n",
        "split = int(test_portion*training_size)\n",
        "# print(split)"
      ],
      "execution_count": null,
      "outputs": [
        {
          "output_type": "execute_result",
          "data": {
            "text/plain": [
              "8585"
            ]
          },
          "metadata": {
            "tags": []
          },
          "execution_count": 14
        }
      ]
    },
    {
      "cell_type": "code",
      "metadata": {
        "trusted": true,
        "id": "lXJP2vR0iXLQ"
      },
      "source": [
        "test_sequences = padding[0:split] \n",
        "training_sequences = padding[split:]\n",
        "\n",
        "labels = df['is_sarcastic']\n",
        "test_labels = labels[0:split]\n",
        "training_labels = labels[split:]"
      ],
      "execution_count": null,
      "outputs": []
    },
    {
      "cell_type": "markdown",
      "metadata": {
        "id": "mVpbjpBOiXLQ"
      },
      "source": [
        "### 5- Embedding"
      ]
    },
    {
      "cell_type": "code",
      "metadata": {
        "trusted": true,
        "id": "o7ivVbGTiXLR"
      },
      "source": [
        "# Let's create an embedding dictionary with the words and their 200-D representation in the given file.\n",
        "embedding_dict = {}\n",
        "with open('/content/drive/MyDrive/glove.twitter.27B.200d.txt') as f:\n",
        "    for line in f:\n",
        "        values = line.split()\n",
        "        word = values[0]\n",
        "        coefs = np.asarray(values[1:], dtype='float64')\n",
        "        embedding_dict[word] = coefs"
      ],
      "execution_count": null,
      "outputs": []
    },
    {
      "cell_type": "code",
      "metadata": {
        "trusted": true,
        "id": "T4KcIC0KiXLR",
        "colab": {
          "base_uri": "https://localhost:8080/"
        },
        "outputId": "2daa390f-fceb-49fb-c50a-4a80a2adf5e4"
      },
      "source": [
        "# Creating embedding matrix for saving the weights\n",
        "embedding_matrix = np.zeros((vocab_size, embedding_dim)) \n",
        "embedding_matrix.shape"
      ],
      "execution_count": null,
      "outputs": [
        {
          "output_type": "execute_result",
          "data": {
            "text/plain": [
              "(25766, 200)"
            ]
          },
          "metadata": {
            "tags": []
          },
          "execution_count": 17
        }
      ]
    },
    {
      "cell_type": "code",
      "metadata": {
        "trusted": true,
        "id": "E1SPx6dOiXLR"
      },
      "source": [
        "# Updating embeddings matrix with their GloVe weights\n",
        "for word, index in word_index_dict.items(): \n",
        "  embedding_vector = embedding_dict.get(word)\n",
        "  if embedding_vector is not None:\n",
        "    embedding_matrix[index] = embedding_vector"
      ],
      "execution_count": null,
      "outputs": []
    },
    {
      "cell_type": "code",
      "metadata": {
        "trusted": true,
        "id": "U7eYlJ0PiXLR"
      },
      "source": [
        "# Converting to array for convenience \n",
        "test_sequences = np.asarray(test_sequences, dtype='int64') \n",
        "training_sequences = np.asarray(training_sequences, dtype='int64')\n",
        "\n",
        "test_labels = np.asarray(test_labels)\n",
        "training_labels = np.asarray(training_labels)"
      ],
      "execution_count": null,
      "outputs": []
    },
    {
      "cell_type": "markdown",
      "metadata": {
        "id": "Dq7stUwzJTaB"
      },
      "source": [
        "### 6- Building the model"
      ]
    },
    {
      "cell_type": "code",
      "metadata": {
        "trusted": true,
        "id": "7rKA_dKFiXLS",
        "colab": {
          "base_uri": "https://localhost:8080/"
        },
        "outputId": "59baf421-ff77-40c9-8fe8-1c6ce5aedc6b"
      },
      "source": [
        "# We are using LSTM gate to handle the vanishing gradient problem due to long term dependancies\n",
        "model = tf.keras.Sequential([\n",
        "    tf.keras.layers.Embedding(vocab_size, embedding_dim, input_length=max_length, weights=[embedding_matrix], trainable=False), \n",
        "    tf.keras.layers.Bidirectional(tf.keras.layers.LSTM(64, dropout=0.4, return_sequences=False)), \n",
        "    tf.keras.layers.Dense(1, activation='sigmoid')\n",
        "])\n",
        "model.summary()"
      ],
      "execution_count": null,
      "outputs": [
        {
          "output_type": "stream",
          "text": [
            "Model: \"sequential\"\n",
            "_________________________________________________________________\n",
            "Layer (type)                 Output Shape              Param #   \n",
            "=================================================================\n",
            "embedding (Embedding)        (None, 20, 200)           5153200   \n",
            "_________________________________________________________________\n",
            "bidirectional (Bidirectional (None, 128)               135680    \n",
            "_________________________________________________________________\n",
            "dense (Dense)                (None, 1)                 129       \n",
            "=================================================================\n",
            "Total params: 5,289,009\n",
            "Trainable params: 135,809\n",
            "Non-trainable params: 5,153,200\n",
            "_________________________________________________________________\n"
          ],
          "name": "stdout"
        }
      ]
    },
    {
      "cell_type": "code",
      "metadata": {
        "trusted": true,
        "id": "jdEV0MNAiXLS"
      },
      "source": [
        "model.compile(optimizer = 'adam', loss='binary_crossentropy', metrics='accuracy')"
      ],
      "execution_count": null,
      "outputs": []
    },
    {
      "cell_type": "code",
      "metadata": {
        "colab": {
          "base_uri": "https://localhost:8080/",
          "height": 422
        },
        "id": "uuIitYAeGVuR",
        "outputId": "a7f1f80f-cd94-4e52-832b-d90f80ed3caa"
      },
      "source": [
        "plot_model(model, show_shapes=True)"
      ],
      "execution_count": null,
      "outputs": [
        {
          "output_type": "execute_result",
          "data": {
            "image/png": "[encoded data removed]",
            "text/plain": [
              "<IPython.core.display.Image object>"
            ]
          },
          "metadata": {
            "tags": []
          },
          "execution_count": 30
        }
      ]
    },
    {
      "cell_type": "markdown",
      "metadata": {
        "id": "j173MvYQJX3s"
      },
      "source": [
        "### 7- Training the model"
      ]
    },
    {
      "cell_type": "code",
      "metadata": {
        "trusted": true,
        "id": "Tyecfc6jiXLT",
        "colab": {
          "base_uri": "https://localhost:8080/"
        },
        "outputId": "14d104da-4575-4d31-ea0e-b89060857922"
      },
      "source": [
        "num_epochs = 10\n",
        "history = model.fit(x=training_sequences, y=training_labels, validation_data=(test_sequences, test_labels), epochs = num_epochs, verbose = 1)"
      ],
      "execution_count": null,
      "outputs": [
        {
          "output_type": "stream",
          "text": [
            "Epoch 1/10\n",
            "627/627 [==============================] - 22s 29ms/step - loss: 0.5508 - accuracy: 0.7107 - val_loss: 0.4442 - val_accuracy: 0.7932\n",
            "Epoch 2/10\n",
            "627/627 [==============================] - 17s 28ms/step - loss: 0.4511 - accuracy: 0.7862 - val_loss: 0.4230 - val_accuracy: 0.8055\n",
            "Epoch 3/10\n",
            "627/627 [==============================] - 17s 28ms/step - loss: 0.3928 - accuracy: 0.8180 - val_loss: 0.4055 - val_accuracy: 0.8128\n",
            "Epoch 4/10\n",
            "627/627 [==============================] - 18s 28ms/step - loss: 0.3710 - accuracy: 0.8310 - val_loss: 0.3792 - val_accuracy: 0.8267\n",
            "Epoch 5/10\n",
            "627/627 [==============================] - 18s 28ms/step - loss: 0.3425 - accuracy: 0.8473 - val_loss: 0.3755 - val_accuracy: 0.8341\n",
            "Epoch 6/10\n",
            "627/627 [==============================] - 18s 28ms/step - loss: 0.3062 - accuracy: 0.8655 - val_loss: 0.3756 - val_accuracy: 0.8351\n",
            "Epoch 7/10\n",
            "627/627 [==============================] - 18s 28ms/step - loss: 0.2901 - accuracy: 0.8755 - val_loss: 0.3992 - val_accuracy: 0.8354\n",
            "Epoch 8/10\n",
            "627/627 [==============================] - 18s 28ms/step - loss: 0.2638 - accuracy: 0.8863 - val_loss: 0.3902 - val_accuracy: 0.8372\n",
            "Epoch 9/10\n",
            "627/627 [==============================] - 19s 31ms/step - loss: 0.2469 - accuracy: 0.8947 - val_loss: 0.4045 - val_accuracy: 0.8398\n",
            "Epoch 10/10\n",
            "627/627 [==============================] - 18s 29ms/step - loss: 0.2238 - accuracy: 0.9076 - val_loss: 0.4085 - val_accuracy: 0.8374\n"
          ],
          "name": "stdout"
        }
      ]
    },
    {
      "cell_type": "markdown",
      "metadata": {
        "id": "wf4S-f_IJi_S"
      },
      "source": [
        "### 8- Result of the model "
      ]
    },
    {
      "cell_type": "code",
      "metadata": {
        "trusted": true,
        "id": "k4yKbZKaiXLT",
        "colab": {
          "base_uri": "https://localhost:8080/",
          "height": 462
        },
        "outputId": "6cd227ad-b671-44ee-b98a-884eb33d2b1b"
      },
      "source": [
        "acc = history.history['accuracy']\n",
        "val_acc = history.history['val_accuracy']\n",
        "loss = history.history['loss']\n",
        "val_loss = history.history['val_loss']\n",
        "\n",
        "epochs = [i for i in range(10)]\n",
        "\n",
        "fig, ax = plt.subplots(1,2)\n",
        "\n",
        "ax[0].plot(epochs, acc, 'r', label='Training accuracy')\n",
        "ax[0].plot(epochs, val_acc, 'g', label='Validation accuracy')\n",
        "ax[0].set_title('Training and validation accuracy')\n",
        "ax[0].legend()\n",
        "ax[0].set_xlabel(\"Epochs\")\n",
        "ax[0].set_ylabel(\"Accuracy\")\n",
        "\n",
        "\n",
        "ax[1].plot(epochs, loss, 'r', label='Training Loss')\n",
        "ax[1].plot(epochs, val_loss, 'g', label='Validation Loss')\n",
        "ax[1].set_title('Training and validation loss')\n",
        "ax[1].legend()\n",
        "ax[0].set_xlabel(\"Epochs\")\n",
        "ax[0].set_ylabel(\"Loss\")\n",
        "\n",
        "fig.set_size_inches(15,7)\n",
        "plt.show()"
      ],
      "execution_count": null,
      "outputs": [
        {
          "output_type": "display_data",
          "data": {
            "image/png": "[encoded data removed]",
            "text/plain": [
              "<Figure size 1080x504 with 2 Axes>"
            ]
          },
          "metadata": {
            "tags": []
          }
        }
      ]
    },
    {
      "cell_type": "code",
      "metadata": {
        "trusted": true,
        "id": "eE_n8aRAiXLU",
        "colab": {
          "base_uri": "https://localhost:8080/"
        },
        "outputId": "d406da84-20b7-4a6b-c545-13798dd35e60"
      },
      "source": [
        "# Handling the overfitting by stopping the train process after 4 iterations.\n",
        "num_epochs = 4\n",
        "history = model.fit(x=training_sequences, y=training_labels, validation_data=(test_sequences, test_labels), epochs = num_epochs, verbose = 1)"
      ],
      "execution_count": null,
      "outputs": [
        {
          "output_type": "stream",
          "text": [
            "Epoch 1/4\n",
            "627/627 [==============================] - 18s 29ms/step - loss: 0.2199 - accuracy: 0.9062 - val_loss: 0.4107 - val_accuracy: 0.8315\n",
            "Epoch 2/4\n",
            "627/627 [==============================] - 18s 29ms/step - loss: 0.2059 - accuracy: 0.9139 - val_loss: 0.4230 - val_accuracy: 0.8397\n",
            "Epoch 3/4\n",
            "627/627 [==============================] - 18s 29ms/step - loss: 0.1997 - accuracy: 0.9165 - val_loss: 0.4175 - val_accuracy: 0.8411\n",
            "Epoch 4/4\n",
            "627/627 [==============================] - 18s 29ms/step - loss: 0.1833 - accuracy: 0.9249 - val_loss: 0.4376 - val_accuracy: 0.8408\n"
          ],
          "name": "stdout"
        }
      ]
    },
    {
      "cell_type": "code",
      "metadata": {
        "trusted": true,
        "id": "_-5cQqlCiXLU",
        "colab": {
          "base_uri": "https://localhost:8080/"
        },
        "outputId": "3d96a2c8-7c95-4044-f12a-0e3904634419"
      },
      "source": [
        "print(\"Training Loss and Accuracy: \")\n",
        "loss, accuracy = model.evaluate(training_sequences, training_labels, verbose = 1)\n",
        "print(\"Validation Loss and Accuracy: \")\n",
        "loss, accuracy = model.evaluate(test_sequences, test_labels, verbose = 1)"
      ],
      "execution_count": null,
      "outputs": [
        {
          "output_type": "stream",
          "text": [
            "Training Loss and Accuracy: \n",
            "627/627 [==============================] - 5s 8ms/step - loss: 0.0684 - accuracy: 0.9810\n",
            "Validation Loss and Accuracy: \n",
            "269/269 [==============================] - 2s 8ms/step - loss: 0.4376 - accuracy: 0.8408\n"
          ],
          "name": "stdout"
        }
      ]
    },
    {
      "cell_type": "code",
      "metadata": {
        "trusted": true,
        "id": "Z2qSznwUiXLV",
        "colab": {
          "base_uri": "https://localhost:8080/"
        },
        "outputId": "5e48f34e-2510-497f-99e8-52cc4c555ec6"
      },
      "source": [
        "y_pred = model.predict_classes(test_sequences)\n",
        "y_pred[:5]"
      ],
      "execution_count": null,
      "outputs": [
        {
          "output_type": "stream",
          "text": [
            "/usr/local/lib/python3.7/dist-packages/tensorflow/python/keras/engine/sequential.py:450: UserWarning: `model.predict_classes()` is deprecated and will be removed after 2021-01-01. Please use instead:* `np.argmax(model.predict(x), axis=-1)`,   if your model does multi-class classification   (e.g. if it uses a `softmax` last-layer activation).* `(model.predict(x) > 0.5).astype(\"int32\")`,   if your model does binary classification   (e.g. if it uses a `sigmoid` last-layer activation).\n",
            "  warnings.warn('`model.predict_classes()` is deprecated and '\n"
          ],
          "name": "stderr"
        },
        {
          "output_type": "execute_result",
          "data": {
            "text/plain": [
              "array([[1],\n",
              "       [0],\n",
              "       [0],\n",
              "       [1],\n",
              "       [1]], dtype=int32)"
            ]
          },
          "metadata": {
            "tags": []
          },
          "execution_count": 26
        }
      ]
    },
    {
      "cell_type": "code",
      "metadata": {
        "colab": {
          "base_uri": "https://localhost:8080/"
        },
        "id": "EOZ23wudG6oH",
        "outputId": "35ee68ab-c3f2-4c5c-973b-90cfafcc4fff"
      },
      "source": [
        "precision_recall_fscore_support(test_labels, y_pred, average='macro')"
      ],
      "execution_count": null,
      "outputs": [
        {
          "output_type": "execute_result",
          "data": {
            "text/plain": [
              "(0.840788336967133, 0.8402661242740684, 0.8404627575736653, None)"
            ]
          },
          "metadata": {
            "tags": []
          },
          "execution_count": 27
        }
      ]
    },
    {
      "cell_type": "code",
      "metadata": {
        "trusted": true,
        "id": "RImI509viXLW",
        "colab": {
          "base_uri": "https://localhost:8080/"
        },
        "outputId": "f684dfcb-0177-4ca0-cecd-0d37586b5b4b"
      },
      "source": [
        "cm = confusion_matrix(test_labels,y_pred)\n",
        "cm"
      ],
      "execution_count": null,
      "outputs": [
        {
          "output_type": "execute_result",
          "data": {
            "text/plain": [
              "array([[3797,  646],\n",
              "       [ 721, 3421]])"
            ]
          },
          "metadata": {
            "tags": []
          },
          "execution_count": 28
        }
      ]
    },
    {
      "cell_type": "code",
      "metadata": {
        "trusted": true,
        "id": "nGdptle3iXLW",
        "colab": {
          "base_uri": "https://localhost:8080/",
          "height": 610
        },
        "outputId": "b9bd7215-1b6f-47c6-f538-9f21d327b4ca"
      },
      "source": [
        "cm = pd.DataFrame(cm , index = ['Not Sarcastic','Sarcastic'] , columns = ['Not Sarcastic','Sarcastic'])\n",
        "plt.figure(figsize = (10,10))\n",
        "sns.heatmap(cm,cmap= \"Blues\", linecolor = 'black' , linewidth = 1 , annot = True, fmt='' , xticklabels = ['Not Sarcastic','Sarcastic'] , yticklabels = ['Not Sarcastic','Sarcastic'])"
      ],
      "execution_count": null,
      "outputs": [
        {
          "output_type": "execute_result",
          "data": {
            "text/plain": [
              "<matplotlib.axes._subplots.AxesSubplot at 0x7feac6a869d0>"
            ]
          },
          "metadata": {
            "tags": []
          },
          "execution_count": 29
        },
        {
          "output_type": "display_data",
          "data": {
            "image/png": "[encoded data removed]",
            "text/plain": [
              "<Figure size 720x720 with 2 Axes>"
            ]
          },
          "metadata": {
            "tags": []
          }
        }
      ]
    }
  ]
}