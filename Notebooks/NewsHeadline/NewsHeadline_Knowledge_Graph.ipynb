{
  "cells": [
    {
      "cell_type": "code",
      "execution_count": null,
      "metadata": {
        "id": "-OTH6AVPSusZ"
      },
      "outputs": [],
      "source": [
        "# numpy module for numeric data processing and vectorization\n",
        "import numpy as np\n",
        "\n",
        "# pandas module for opening dataset & processing it\n",
        "import pandas as pd\n",
        "\n",
        "import re\n",
        "import bs4\n",
        "import requests\n",
        "import spacy\n",
        "from spacy import displacy\n",
        "nlp = spacy.load('en_core_web_sm')\n",
        "from spacy.matcher import Matcher \n",
        "from spacy.tokens import Span \n",
        "\n",
        "import networkx as nx\n",
        "\n",
        "import matplotlib.pyplot as plt\n",
        "plt.style.use('ggplot')\n",
        "from tqdm import tqdm\n",
        "\n",
        "pd.set_option('display.max_colwidth', 200)\n",
        "%matplotlib inline\n"
      ]
    },
    {
      "cell_type": "code",
      "execution_count": null,
      "metadata": {
        "colab": {
          "base_uri": "https://localhost:8080/",
          "height": 198
        },
        "id": "Lj6rG_KCSwjk",
        "outputId": "d5227710-b9ce-412e-89b3-461a582011bc"
      },
      "outputs": [
        {
          "data": {
            "text/html": [
              "<div>\n",
              "<style scoped>\n",
              "    .dataframe tbody tr th:only-of-type {\n",
              "        vertical-align: middle;\n",
              "    }\n",
              "\n",
              "    .dataframe tbody tr th {\n",
              "        vertical-align: top;\n",
              "    }\n",
              "\n",
              "    .dataframe thead th {\n",
              "        text-align: right;\n",
              "    }\n",
              "</style>\n",
              "<table border=\"1\" class=\"dataframe\">\n",
              "  <thead>\n",
              "    <tr style=\"text-align: right;\">\n",
              "      <th></th>\n",
              "      <th>is_sarcastic</th>\n",
              "      <th>headline</th>\n",
              "      <th>article_link</th>\n",
              "    </tr>\n",
              "  </thead>\n",
              "  <tbody>\n",
              "    <tr>\n",
              "      <th>0</th>\n",
              "      <td>1</td>\n",
              "      <td>thirtysomething scientists unveil doomsday clo...</td>\n",
              "      <td>https://www.theonion.com/thirtysomething-scien...</td>\n",
              "    </tr>\n",
              "    <tr>\n",
              "      <th>1</th>\n",
              "      <td>0</td>\n",
              "      <td>dem rep. totally nails why congress is falling...</td>\n",
              "      <td>https://www.huffingtonpost.com/entry/donna-edw...</td>\n",
              "    </tr>\n",
              "    <tr>\n",
              "      <th>2</th>\n",
              "      <td>0</td>\n",
              "      <td>eat your veggies: 9 deliciously different recipes</td>\n",
              "      <td>https://www.huffingtonpost.com/entry/eat-your-...</td>\n",
              "    </tr>\n",
              "    <tr>\n",
              "      <th>3</th>\n",
              "      <td>1</td>\n",
              "      <td>inclement weather prevents liar from getting t...</td>\n",
              "      <td>https://local.theonion.com/inclement-weather-p...</td>\n",
              "    </tr>\n",
              "    <tr>\n",
              "      <th>4</th>\n",
              "      <td>1</td>\n",
              "      <td>mother comes pretty close to using word 'strea...</td>\n",
              "      <td>https://www.theonion.com/mother-comes-pretty-c...</td>\n",
              "    </tr>\n",
              "  </tbody>\n",
              "</table>\n",
              "</div>"
            ],
            "text/plain": [
              "   is_sarcastic  ...                                       article_link\n",
              "0             1  ...  https://www.theonion.com/thirtysomething-scien...\n",
              "1             0  ...  https://www.huffingtonpost.com/entry/donna-edw...\n",
              "2             0  ...  https://www.huffingtonpost.com/entry/eat-your-...\n",
              "3             1  ...  https://local.theonion.com/inclement-weather-p...\n",
              "4             1  ...  https://www.theonion.com/mother-comes-pretty-c...\n",
              "\n",
              "[5 rows x 3 columns]"
            ]
          },
          "execution_count": 3,
          "metadata": {
            "tags": []
          },
          "output_type": "execute_result"
        }
      ],
      "source": [
        "df = pd.read_json(\"/content/drive/MyDrive/Sarcasm_Headlines_Dataset_v2.json\", lines=True)\n",
        "df.head()"
      ]
    },
    {
      "cell_type": "code",
      "execution_count": null,
      "metadata": {
        "colab": {
          "base_uri": "https://localhost:8080/",
          "height": 35
        },
        "id": "KD9Oy7fyS5Sl",
        "outputId": "1452096f-f894-4dd2-8b41-698b5a467fb2"
      },
      "outputs": [
        {
          "data": {
            "application/vnd.google.colaboratory.intrinsic+json": {
              "type": "string"
            },
            "text/plain": [
              "'god getting strong urge to bring back dinosaurs'"
            ]
          },
          "execution_count": 15,
          "metadata": {
            "tags": []
          },
          "output_type": "execute_result"
        }
      ],
      "source": [
        "df['headline'][49]"
      ]
    },
    {
      "cell_type": "code",
      "execution_count": null,
      "metadata": {
        "id": "SIPtQHgSTD31"
      },
      "outputs": [],
      "source": [
        "doc = nlp(df['headline'][49])"
      ]
    },
    {
      "cell_type": "code",
      "execution_count": null,
      "metadata": {
        "colab": {
          "base_uri": "https://localhost:8080/"
        },
        "id": "CwPOZSaCUR1Y",
        "outputId": "92f49192-574c-4286-e1ac-2771e73abc5a"
      },
      "outputs": [
        {
          "name": "stdout",
          "output_type": "stream",
          "text": [
            "god ... nsubj\n",
            "getting ... ROOT\n",
            "strong ... amod\n",
            "urge ... dobj\n",
            "to ... aux\n",
            "bring ... acl\n",
            "back ... prt\n",
            "dinosaurs ... dobj\n"
          ]
        }
      ],
      "source": [
        "for tok in doc:\n",
        "  print(tok.text, \"...\", tok.dep_)"
      ]
    },
    {
      "cell_type": "code",
      "execution_count": null,
      "metadata": {
        "id": "klJjrSS0Ujeu"
      },
      "outputs": [],
      "source": [
        "def get_entities(sent):\n",
        "  sub = \"\"\n",
        "  obj = \"\"\n",
        "\n",
        "  prv_tok_dep = \"\"    \n",
        "  prv_tok_text = \"\"   \n",
        "\n",
        "  prefix = \"\"\n",
        "  modifier = \"\"\n",
        "  \n",
        "  for tok in nlp(sent):\n",
        "    if tok.dep_ != \"punct\":\n",
        "      if tok.dep_ == \"compound\":\n",
        "        prefix = tok.text\n",
        "        if prv_tok_dep == \"compound\":\n",
        "          prefix = prv_tok_text + \" \"+ tok.text\n",
        "      \n",
        "      if tok.dep_.endswith(\"mod\") == True:\n",
        "        modifier = tok.text\n",
        "        if prv_tok_dep == \"compound\":\n",
        "          modifier = prv_tok_text + \" \"+ tok.text\n",
        "      \n",
        "      if tok.dep_.find(\"subj\") == True:\n",
        "        sub = modifier +\" \"+ prefix + \" \"+ tok.text\n",
        "        prefix = \"\"\n",
        "        modifier = \"\"\n",
        "        prv_tok_dep = \"\"\n",
        "        prv_tok_text = \"\"      \n",
        "\n",
        "      if tok.dep_.find(\"obj\") == True:\n",
        "        obj = modifier +\" \"+ prefix +\" \"+ tok.text\n",
        "        \n",
        "      \n",
        "      prv_tok_dep = tok.dep_\n",
        "      prv_tok_text = tok.text\n",
        "\n",
        "  return [sub.strip(), obj.strip()]\n"
      ]
    },
    {
      "cell_type": "code",
      "execution_count": null,
      "metadata": {
        "colab": {
          "base_uri": "https://localhost:8080/"
        },
        "id": "PvAQDhyQfMWk",
        "outputId": "c1a4bb46-7f1f-4207-b81d-6df0544ccf91"
      },
      "outputs": [
        {
          "data": {
            "text/plain": [
              "['paper', '400  citations']"
            ]
          },
          "execution_count": 84,
          "metadata": {
            "tags": []
          },
          "output_type": "execute_result"
        }
      ],
      "source": [
        "get_entities(\"The paper has more than 400 citations.\")"
      ]
    },
    {
      "cell_type": "code",
      "execution_count": null,
      "metadata": {
        "colab": {
          "base_uri": "https://localhost:8080/"
        },
        "id": "lXdYpQH0VPHS",
        "outputId": "f7383d2a-5a0e-4a41-c576-4b517735ec68"
      },
      "outputs": [
        {
          "name": "stderr",
          "output_type": "stream",
          "text": [
            "100%|██████████| 28619/28619 [06:26<00:00, 73.99it/s]\n"
          ]
        }
      ],
      "source": [
        "entity_pairs = []\n",
        "for i in tqdm(df['headline']):\n",
        "  entity_pairs.append(get_entities(i))\n"
      ]
    },
    {
      "cell_type": "code",
      "execution_count": null,
      "metadata": {
        "colab": {
          "base_uri": "https://localhost:8080/"
        },
        "id": "BuOezsCOanZh",
        "outputId": "ba8f7cce-026d-4a49-e96f-96462281942a"
      },
      "outputs": [
        {
          "data": {
            "text/plain": [
              "[['lesbian', 'amazing  that'],\n",
              " ['amanda peet', 'daughter'],\n",
              " ['', 'current  ebola'],\n",
              " ['hillary clinton', 'boko schoolgirls'],\n",
              " ['new  that', 'purely  gasoline'],\n",
              " ['', 'economic advisory council'],\n",
              " ['area boy', 'jumping  phase'],\n",
              " ['area man', 'gurney'],\n",
              " ['', 'disabilities'],\n",
              " ['lin manuel miranda', 'phone']]"
            ]
          },
          "execution_count": 32,
          "metadata": {
            "tags": []
          },
          "output_type": "execute_result"
        }
      ],
      "source": [
        "entity_pairs[10:20]"
      ]
    },
    {
      "cell_type": "code",
      "execution_count": null,
      "metadata": {
        "id": "2tuBlAt2cgK7"
      },
      "outputs": [],
      "source": [
        "def get_relation(sent):\n",
        "  doc = nlp(sent)\n",
        "  matcher = Matcher(nlp.vocab)\n",
        "  \n",
        "  pattern = [{'DEP':'ROOT'}, \n",
        "            {'DEP':'prep','OP':\"?\"},\n",
        "            {'DEP':'agent','OP':\"?\"},  \n",
        "            {'POS':'ADJ','OP':\"?\"}] \n",
        "\n",
        "  matcher.add(\"matching_1\", None, pattern) \n",
        "  matches = matcher(doc)\n",
        "  k = len(matches) - 1\n",
        "  span = doc[matches[k][1]:matches[k][2]] \n",
        "  return(span.text)"
      ]
    },
    {
      "cell_type": "code",
      "execution_count": null,
      "metadata": {
        "colab": {
          "base_uri": "https://localhost:8080/",
          "height": 35
        },
        "id": "D5QZm47cdsso",
        "outputId": "1a975d0d-5f3d-462d-d719-46c0b80cc902"
      },
      "outputs": [
        {
          "data": {
            "application/vnd.google.colaboratory.intrinsic+json": {
              "type": "string"
            },
            "text/plain": [
              "'completed'"
            ]
          },
          "execution_count": 38,
          "metadata": {
            "tags": []
          },
          "output_type": "execute_result"
        }
      ],
      "source": [
        "get_relation(\"Mohammad completed his assignment.\")"
      ]
    },
    {
      "cell_type": "code",
      "execution_count": null,
      "metadata": {
        "colab": {
          "base_uri": "https://localhost:8080/"
        },
        "id": "ftR-hR_odzJh",
        "outputId": "62f11b1f-d59f-4cce-f353-77ecbc975d84"
      },
      "outputs": [
        {
          "name": "stderr",
          "output_type": "stream",
          "text": [
            "100%|██████████| 28619/28619 [05:27<00:00, 87.48it/s]\n"
          ]
        }
      ],
      "source": [
        "relations = [get_relation(i) for i in tqdm(df['headline'])]"
      ]
    },
    {
      "cell_type": "code",
      "execution_count": null,
      "metadata": {
        "colab": {
          "base_uri": "https://localhost:8080/"
        },
        "id": "lxZUdS_2zDOB",
        "outputId": "75acd8f2-b889-469a-8db5-fb017d300d61"
      },
      "outputs": [
        {
          "data": {
            "text/plain": [
              "set           26\n",
              "recommends    26\n",
              "plan          26\n",
              "warn          25\n",
              "put           25\n",
              "use           25\n",
              "passes        24\n",
              "wait          24\n",
              "read          23\n",
              "decides       23\n",
              "dtype: int64"
            ]
          },
          "execution_count": 58,
          "metadata": {
            "tags": []
          },
          "output_type": "execute_result"
        }
      ],
      "source": [
        "pd.Series(relations).value_counts()[120:130]"
      ]
    },
    {
      "cell_type": "code",
      "execution_count": null,
      "metadata": {
        "id": "zaJAVaJg3A-e"
      },
      "outputs": [],
      "source": [
        "# Extracting the subject\n",
        "source = [i[0] for i in entity_pairs]\n",
        "\n",
        "# Extracting the object\n",
        "target = [i[1] for i in entity_pairs]\n",
        "\n",
        "kg_df = pd.DataFrame({'source':source, 'target':target, 'edge':relations})"
      ]
    },
    {
      "cell_type": "code",
      "execution_count": null,
      "metadata": {
        "id": "2MB5J12x3P1T"
      },
      "outputs": [],
      "source": [
        "G=nx.from_pandas_edgelist(kg_df, \"source\", \"target\", \n",
        "                          edge_attr=True, create_using=nx.MultiDiGraph())"
      ]
    },
    {
      "cell_type": "code",
      "execution_count": null,
      "metadata": {
        "colab": {
          "base_uri": "https://localhost:8080/",
          "height": 895
        },
        "id": "Z-DMnlk93xcK",
        "outputId": "b5e0caa9-b0bf-4bda-a97e-642388a2d200"
      },
      "outputs": [],
      "source": [
        "G=nx.from_pandas_edgelist(kg_df[kg_df['edge']==\"read\"], \"source\", \"target\", \n",
        "                          edge_attr=True, create_using=nx.MultiDiGraph())\n",
        "\n",
        "plt.figure(figsize=(12,12))\n",
        "pos = nx.spring_layout(G, k = 0.5) # k regulates the distance between nodes\n",
        "nx.draw(G, with_labels=True, node_color='yellow', node_size=900, edge_cmap=plt.cm.Blues, pos = pos)\n",
        "plt.show()\n"
      ]
    }
  ],
  "metadata": {
    "colab": {
      "collapsed_sections": [],
      "name": "KG.ipynb",
      "provenance": []
    },
    "kernelspec": {
      "display_name": "Python 3",
      "name": "python3"
    },
    "language_info": {
      "name": "python"
    }
  },
  "nbformat": 4,
  "nbformat_minor": 0
}
